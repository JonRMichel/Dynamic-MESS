{
 "cells": [
  {
   "cell_type": "code",
   "execution_count": 1,
   "metadata": {},
   "outputs": [],
   "source": [
    "import numpy as np\n",
    "import pandas as pd\n",
    "import matplotlib.pyplot as plt\n",
    "from statsmodels.tsa.holtwinters import ExponentialSmoothing, Holt, SimpleExpSmoothing\n",
    "from statsmodels.tsa.api import VAR"
   ]
  },
  {
   "cell_type": "code",
   "execution_count": 2,
   "metadata": {},
   "outputs": [],
   "source": [
    "data  = pd.read_excel( \"C:/Users/michelj8/Documents/GitHub/Dynamic-MESS/crime_states_adj_ohio.xlsx\", 'Murder')\n",
    "weight_matrix = pd.read_excel( \"C:/Users/michelj8/Documents/GitHub/Dynamic-MESS/crime_states_adj_ohio.xlsx\", 'Weight Matrix')"
   ]
  },
  {
   "cell_type": "code",
   "execution_count": 6,
   "metadata": {},
   "outputs": [
    {
     "ename": "KeyError",
     "evalue": "\"None of ['Year'] are in the columns\"",
     "output_type": "error",
     "traceback": [
      "\u001b[1;31m---------------------------------------------------------------------------\u001b[0m",
      "\u001b[1;31mKeyError\u001b[0m                                  Traceback (most recent call last)",
      "\u001b[1;32m<ipython-input-6-a0e53ef3cdbb>\u001b[0m in \u001b[0;36m<module>\u001b[1;34m\u001b[0m\n\u001b[1;32m----> 1\u001b[1;33m \u001b[0mdata\u001b[0m \u001b[1;33m=\u001b[0m \u001b[0mdata\u001b[0m\u001b[1;33m.\u001b[0m\u001b[0mset_index\u001b[0m\u001b[1;33m(\u001b[0m\u001b[1;34m'Year'\u001b[0m\u001b[1;33m)\u001b[0m\u001b[1;33m\u001b[0m\u001b[1;33m\u001b[0m\u001b[0m\n\u001b[0m\u001b[0;32m      2\u001b[0m \u001b[0mstates\u001b[0m \u001b[1;33m=\u001b[0m \u001b[0mlist\u001b[0m\u001b[1;33m(\u001b[0m\u001b[0mdata\u001b[0m\u001b[1;33m.\u001b[0m\u001b[0mcolumns\u001b[0m\u001b[1;33m)\u001b[0m\u001b[1;33m\u001b[0m\u001b[1;33m\u001b[0m\u001b[0m\n\u001b[0;32m      3\u001b[0m \u001b[1;33m\u001b[0m\u001b[0m\n\u001b[0;32m      4\u001b[0m \u001b[0mdata\u001b[0m\u001b[1;33m.\u001b[0m\u001b[0mplot\u001b[0m\u001b[1;33m(\u001b[0m\u001b[1;33m)\u001b[0m\u001b[1;33m\u001b[0m\u001b[1;33m\u001b[0m\u001b[0m\n",
      "\u001b[1;32m~\\Anaconda3\\lib\\site-packages\\pandas\\core\\frame.py\u001b[0m in \u001b[0;36mset_index\u001b[1;34m(self, keys, drop, append, inplace, verify_integrity)\u001b[0m\n\u001b[0;32m   4301\u001b[0m \u001b[1;33m\u001b[0m\u001b[0m\n\u001b[0;32m   4302\u001b[0m         \u001b[1;32mif\u001b[0m \u001b[0mmissing\u001b[0m\u001b[1;33m:\u001b[0m\u001b[1;33m\u001b[0m\u001b[1;33m\u001b[0m\u001b[0m\n\u001b[1;32m-> 4303\u001b[1;33m             \u001b[1;32mraise\u001b[0m \u001b[0mKeyError\u001b[0m\u001b[1;33m(\u001b[0m\u001b[1;34mf\"None of {missing} are in the columns\"\u001b[0m\u001b[1;33m)\u001b[0m\u001b[1;33m\u001b[0m\u001b[1;33m\u001b[0m\u001b[0m\n\u001b[0m\u001b[0;32m   4304\u001b[0m \u001b[1;33m\u001b[0m\u001b[0m\n\u001b[0;32m   4305\u001b[0m         \u001b[1;32mif\u001b[0m \u001b[0minplace\u001b[0m\u001b[1;33m:\u001b[0m\u001b[1;33m\u001b[0m\u001b[1;33m\u001b[0m\u001b[0m\n",
      "\u001b[1;31mKeyError\u001b[0m: \"None of ['Year'] are in the columns\""
     ]
    }
   ],
   "source": [
    "data = data.set_index('Year')\n",
    "states = list(data.columns)\n",
    "\n",
    "data.plot()"
   ]
  },
  {
   "cell_type": "code",
   "execution_count": 7,
   "metadata": {},
   "outputs": [
    {
     "name": "stdout",
     "output_type": "stream",
     "text": [
      "Indiana 7.088710823053803e-06 7.080126846384242e-06\n",
      "Kentucky 0.15789473684210525 0.15789473684210525\n",
      "Michigan 0.10672303084775832 0.0\n",
      "Ohio 0.10013503487825716 0.0\n",
      "Pennsylvania 0.04482709046758492 0.04482708920498137\n",
      "West Virginia 2.9851385832618495e-06 2.9806547302554465e-06\n"
     ]
    },
    {
     "name": "stderr",
     "output_type": "stream",
     "text": [
      "C:\\Users\\michelj8\\Anaconda3\\lib\\site-packages\\statsmodels\\tsa\\holtwinters.py:743: ConvergenceWarning: Optimization failed to converge. Check mle_retvals.\n",
      "  warn(\"Optimization failed to converge. Check mle_retvals.\",\n",
      "C:\\Users\\michelj8\\Anaconda3\\lib\\site-packages\\statsmodels\\tsa\\holtwinters.py:743: ConvergenceWarning: Optimization failed to converge. Check mle_retvals.\n",
      "  warn(\"Optimization failed to converge. Check mle_retvals.\",\n",
      "C:\\Users\\michelj8\\Anaconda3\\lib\\site-packages\\statsmodels\\tsa\\holtwinters.py:743: ConvergenceWarning: Optimization failed to converge. Check mle_retvals.\n",
      "  warn(\"Optimization failed to converge. Check mle_retvals.\",\n",
      "C:\\Users\\michelj8\\Anaconda3\\lib\\site-packages\\statsmodels\\tsa\\holtwinters.py:743: ConvergenceWarning: Optimization failed to converge. Check mle_retvals.\n",
      "  warn(\"Optimization failed to converge. Check mle_retvals.\",\n"
     ]
    }
   ],
   "source": [
    "for state in states:\n",
    "    model = Holt(data.pct_change(1).dropna()[state].values).fit(optimized=True)\n",
    "    print(state, model.params['smoothing_level'], model.params['smoothing_slope'])"
   ]
  },
  {
   "cell_type": "code",
   "execution_count": 8,
   "metadata": {},
   "outputs": [
    {
     "name": "stdout",
     "output_type": "stream",
     "text": [
      "Indiana 0.9419139720188617 0.0\n",
      "Kentucky 0.7577367869445873 0.0\n",
      "Michigan 1.0 0.0\n",
      "Ohio 1.0 0.0\n",
      "Pennsylvania 0.9762648639250724 0.0\n",
      "West Virginia 0.6241437419867366 0.0\n"
     ]
    }
   ],
   "source": [
    "for state in states:\n",
    "    model = Holt(data[state].values).fit(optimized=True)\n",
    "    print(state, model.params['smoothing_level'], model.params['smoothing_slope'])"
   ]
  },
  {
   "cell_type": "code",
   "execution_count": 9,
   "metadata": {},
   "outputs": [
    {
     "name": "stdout",
     "output_type": "stream",
     "text": [
      "Indiana 1.3893686707903409e-11 4.6312289026344705e-12\n",
      "Kentucky 0.15789473684210525 0.15789473684210525\n",
      "Michigan 5.985457807723525e-09 1.7101308022067082e-09\n",
      "Ohio 7.838656104212392e-09 0.0\n",
      "Pennsylvania 1.1699755578699665e-08 0.0\n",
      "West Virginia 0.3684210526315789 0.3684210526315789\n"
     ]
    },
    {
     "name": "stderr",
     "output_type": "stream",
     "text": [
      "C:\\Users\\michelj8\\Anaconda3\\lib\\site-packages\\statsmodels\\tsa\\holtwinters.py:743: ConvergenceWarning: Optimization failed to converge. Check mle_retvals.\n",
      "  warn(\"Optimization failed to converge. Check mle_retvals.\",\n",
      "C:\\Users\\michelj8\\Anaconda3\\lib\\site-packages\\statsmodels\\tsa\\holtwinters.py:743: ConvergenceWarning: Optimization failed to converge. Check mle_retvals.\n",
      "  warn(\"Optimization failed to converge. Check mle_retvals.\",\n",
      "C:\\Users\\michelj8\\Anaconda3\\lib\\site-packages\\statsmodels\\tsa\\holtwinters.py:743: ConvergenceWarning: Optimization failed to converge. Check mle_retvals.\n",
      "  warn(\"Optimization failed to converge. Check mle_retvals.\",\n"
     ]
    }
   ],
   "source": [
    "for state in states:\n",
    "    model = Holt(data[state].diff(1).dropna().values).fit(optimized=True)\n",
    "    print(state, model.params['smoothing_level'], model.params['smoothing_slope'])"
   ]
  },
  {
   "cell_type": "code",
   "execution_count": 10,
   "metadata": {},
   "outputs": [
    {
     "name": "stdout",
     "output_type": "stream",
     "text": [
      "Indiana 0.9480703585896849\n",
      "Kentucky 0.7577346156899407\n",
      "Michigan 1.0\n",
      "Ohio 1.0\n",
      "Pennsylvania 0.9858011909050033\n",
      "West Virginia 0.6241439510910144\n"
     ]
    }
   ],
   "source": [
    "for state in states:\n",
    "    model = SimpleExpSmoothing(data[state].dropna().values).fit(optimized=True)\n",
    "    print(state, model.params['smoothing_level'])"
   ]
  },
  {
   "cell_type": "code",
   "execution_count": 11,
   "metadata": {},
   "outputs": [
    {
     "data": {
      "text/plain": [
       "{'smoothing_level': 1.0,\n",
       " 'smoothing_slope': 0.2993778552766989,\n",
       " 'smoothing_seasonal': nan,\n",
       " 'damping_slope': nan,\n",
       " 'initial_level': 1437.791062599347,\n",
       " 'initial_slope': 26.41199165580639,\n",
       " 'initial_seasons': array([], dtype=float64),\n",
       " 'use_boxcox': False,\n",
       " 'lamda': None,\n",
       " 'remove_bias': False}"
      ]
     },
     "execution_count": 11,
     "metadata": {},
     "output_type": "execute_result"
    },
    {
     "data": {
      "image/png": "[encoded data removed]",
      "text/plain": [
       "<Figure size 432x288 with 1 Axes>"
      ]
     },
     "metadata": {
      "needs_background": "light"
     },
     "output_type": "display_data"
    }
   ],
   "source": [
    "# agg_ts = data.sum(axis = 1).loc[1975:]\n",
    "agg_ts = data.sum(axis = 1)\n",
    "model = Holt(agg_ts.values).fit(optimized=True)\n",
    "agg_ts.plot()\n",
    "model.params"
   ]
  },
  {
   "cell_type": "code",
   "execution_count": 12,
   "metadata": {},
   "outputs": [
    {
     "name": "stderr",
     "output_type": "stream",
     "text": [
      "C:\\Users\\michelj8\\Anaconda3\\lib\\site-packages\\statsmodels\\tsa\\base\\tsa_model.py:213: ValueWarning: An unsupported index was provided and will be ignored when e.g. forecasting.\n",
      "  warnings.warn('An unsupported index was provided and will be'\n"
     ]
    },
    {
     "data": {
      "text/html": [
       "<div>\n",
       "<style scoped>\n",
       "    .dataframe tbody tr th:only-of-type {\n",
       "        vertical-align: middle;\n",
       "    }\n",
       "\n",
       "    .dataframe tbody tr th {\n",
       "        vertical-align: top;\n",
       "    }\n",
       "\n",
       "    .dataframe thead th {\n",
       "        text-align: right;\n",
       "    }\n",
       "</style>\n",
       "<table border=\"1\" class=\"dataframe\">\n",
       "  <thead>\n",
       "    <tr style=\"text-align: right;\">\n",
       "      <th></th>\n",
       "      <th>Indiana</th>\n",
       "      <th>Kentucky</th>\n",
       "      <th>Michigan</th>\n",
       "      <th>Ohio</th>\n",
       "      <th>Pennsylvania</th>\n",
       "      <th>West Virginia</th>\n",
       "    </tr>\n",
       "  </thead>\n",
       "  <tbody>\n",
       "    <tr>\n",
       "      <th>const</th>\n",
       "      <td>33.774152</td>\n",
       "      <td>62.032419</td>\n",
       "      <td>110.865921</td>\n",
       "      <td>84.222115</td>\n",
       "      <td>183.549211</td>\n",
       "      <td>42.788803</td>\n",
       "    </tr>\n",
       "    <tr>\n",
       "      <th>L1.Indiana</th>\n",
       "      <td>0.516887</td>\n",
       "      <td>-0.011742</td>\n",
       "      <td>-0.357667</td>\n",
       "      <td>-0.489039</td>\n",
       "      <td>-0.040383</td>\n",
       "      <td>-0.017095</td>\n",
       "    </tr>\n",
       "    <tr>\n",
       "      <th>L1.Kentucky</th>\n",
       "      <td>-0.113205</td>\n",
       "      <td>0.445458</td>\n",
       "      <td>-0.002139</td>\n",
       "      <td>0.119471</td>\n",
       "      <td>-0.514030</td>\n",
       "      <td>-0.041476</td>\n",
       "    </tr>\n",
       "    <tr>\n",
       "      <th>L1.Michigan</th>\n",
       "      <td>0.106622</td>\n",
       "      <td>0.029201</td>\n",
       "      <td>0.910373</td>\n",
       "      <td>0.118354</td>\n",
       "      <td>0.134572</td>\n",
       "      <td>0.017262</td>\n",
       "    </tr>\n",
       "    <tr>\n",
       "      <th>L1.Ohio</th>\n",
       "      <td>0.023015</td>\n",
       "      <td>0.194491</td>\n",
       "      <td>0.295427</td>\n",
       "      <td>0.809971</td>\n",
       "      <td>0.366632</td>\n",
       "      <td>0.135136</td>\n",
       "    </tr>\n",
       "    <tr>\n",
       "      <th>L1.Pennsylvania</th>\n",
       "      <td>0.144586</td>\n",
       "      <td>-0.140670</td>\n",
       "      <td>-0.051210</td>\n",
       "      <td>0.135782</td>\n",
       "      <td>0.549005</td>\n",
       "      <td>-0.077456</td>\n",
       "    </tr>\n",
       "    <tr>\n",
       "      <th>L1.West Virginia</th>\n",
       "      <td>-0.310239</td>\n",
       "      <td>0.349999</td>\n",
       "      <td>-0.679762</td>\n",
       "      <td>-0.127778</td>\n",
       "      <td>-0.764015</td>\n",
       "      <td>0.218124</td>\n",
       "    </tr>\n",
       "  </tbody>\n",
       "</table>\n",
       "</div>"
      ],
      "text/plain": [
       "                    Indiana   Kentucky    Michigan       Ohio  Pennsylvania  \\\n",
       "const             33.774152  62.032419  110.865921  84.222115    183.549211   \n",
       "L1.Indiana         0.516887  -0.011742   -0.357667  -0.489039     -0.040383   \n",
       "L1.Kentucky       -0.113205   0.445458   -0.002139   0.119471     -0.514030   \n",
       "L1.Michigan        0.106622   0.029201    0.910373   0.118354      0.134572   \n",
       "L1.Ohio            0.023015   0.194491    0.295427   0.809971      0.366632   \n",
       "L1.Pennsylvania    0.144586  -0.140670   -0.051210   0.135782      0.549005   \n",
       "L1.West Virginia  -0.310239   0.349999   -0.679762  -0.127778     -0.764015   \n",
       "\n",
       "                  West Virginia  \n",
       "const                 42.788803  \n",
       "L1.Indiana            -0.017095  \n",
       "L1.Kentucky           -0.041476  \n",
       "L1.Michigan            0.017262  \n",
       "L1.Ohio                0.135136  \n",
       "L1.Pennsylvania       -0.077456  \n",
       "L1.West Virginia       0.218124  "
      ]
     },
     "execution_count": 12,
     "metadata": {},
     "output_type": "execute_result"
    }
   ],
   "source": [
    "model = VAR(data).fit()\n",
    "model.params"
   ]
  },
  {
   "cell_type": "code",
   "execution_count": 14,
   "metadata": {},
   "outputs": [
    {
     "name": "stdout",
     "output_type": "stream",
     "text": [
      "Indiana 0.8879681686703434\n",
      "Kentucky 0.86855920806026\n",
      "Michigan 0.9423936051249321\n",
      "Ohio 0.9234322056047858\n",
      "Pennsylvania 0.9086340423896987\n",
      "West Virginia 0.7593690944095437\n"
     ]
    }
   ],
   "source": [
    "for state in states:\n",
    "    print(state, data[state].autocorr())"
   ]
  },
  {
   "cell_type": "code",
   "execution_count": 15,
   "metadata": {},
   "outputs": [
    {
     "data": {
      "text/html": [
       "<div>\n",
       "<style scoped>\n",
       "    .dataframe tbody tr th:only-of-type {\n",
       "        vertical-align: middle;\n",
       "    }\n",
       "\n",
       "    .dataframe tbody tr th {\n",
       "        vertical-align: top;\n",
       "    }\n",
       "\n",
       "    .dataframe thead th {\n",
       "        text-align: right;\n",
       "    }\n",
       "</style>\n",
       "<table border=\"1\" class=\"dataframe\">\n",
       "  <thead>\n",
       "    <tr style=\"text-align: right;\">\n",
       "      <th></th>\n",
       "      <th>Indiana</th>\n",
       "      <th>Kentucky</th>\n",
       "      <th>Michigan</th>\n",
       "      <th>Ohio</th>\n",
       "      <th>Pennsylvania</th>\n",
       "      <th>West Virginia</th>\n",
       "      <th>average</th>\n",
       "    </tr>\n",
       "  </thead>\n",
       "  <tbody>\n",
       "    <tr>\n",
       "      <th>Indiana</th>\n",
       "      <td>1.000000</td>\n",
       "      <td>0.285648</td>\n",
       "      <td>0.658353</td>\n",
       "      <td>0.587251</td>\n",
       "      <td>0.833627</td>\n",
       "      <td>0.320788</td>\n",
       "      <td>0.806231</td>\n",
       "    </tr>\n",
       "    <tr>\n",
       "      <th>Kentucky</th>\n",
       "      <td>0.285648</td>\n",
       "      <td>1.000000</td>\n",
       "      <td>0.690001</td>\n",
       "      <td>0.804197</td>\n",
       "      <td>0.376399</td>\n",
       "      <td>0.740937</td>\n",
       "      <td>0.667264</td>\n",
       "    </tr>\n",
       "    <tr>\n",
       "      <th>Michigan</th>\n",
       "      <td>0.658353</td>\n",
       "      <td>0.690001</td>\n",
       "      <td>1.000000</td>\n",
       "      <td>0.827707</td>\n",
       "      <td>0.756347</td>\n",
       "      <td>0.629468</td>\n",
       "      <td>0.890774</td>\n",
       "    </tr>\n",
       "    <tr>\n",
       "      <th>Ohio</th>\n",
       "      <td>0.587251</td>\n",
       "      <td>0.804197</td>\n",
       "      <td>0.827707</td>\n",
       "      <td>1.000000</td>\n",
       "      <td>0.725290</td>\n",
       "      <td>0.781785</td>\n",
       "      <td>0.848872</td>\n",
       "    </tr>\n",
       "    <tr>\n",
       "      <th>Pennsylvania</th>\n",
       "      <td>0.833627</td>\n",
       "      <td>0.376399</td>\n",
       "      <td>0.756347</td>\n",
       "      <td>0.725290</td>\n",
       "      <td>1.000000</td>\n",
       "      <td>0.412411</td>\n",
       "      <td>0.847451</td>\n",
       "    </tr>\n",
       "    <tr>\n",
       "      <th>West Virginia</th>\n",
       "      <td>0.320788</td>\n",
       "      <td>0.740937</td>\n",
       "      <td>0.629468</td>\n",
       "      <td>0.781785</td>\n",
       "      <td>0.412411</td>\n",
       "      <td>1.000000</td>\n",
       "      <td>0.640067</td>\n",
       "    </tr>\n",
       "    <tr>\n",
       "      <th>average</th>\n",
       "      <td>0.806231</td>\n",
       "      <td>0.667264</td>\n",
       "      <td>0.890774</td>\n",
       "      <td>0.848872</td>\n",
       "      <td>0.847451</td>\n",
       "      <td>0.640067</td>\n",
       "      <td>1.000000</td>\n",
       "    </tr>\n",
       "  </tbody>\n",
       "</table>\n",
       "</div>"
      ],
      "text/plain": [
       "                Indiana  Kentucky  Michigan      Ohio  Pennsylvania  \\\n",
       "Indiana        1.000000  0.285648  0.658353  0.587251      0.833627   \n",
       "Kentucky       0.285648  1.000000  0.690001  0.804197      0.376399   \n",
       "Michigan       0.658353  0.690001  1.000000  0.827707      0.756347   \n",
       "Ohio           0.587251  0.804197  0.827707  1.000000      0.725290   \n",
       "Pennsylvania   0.833627  0.376399  0.756347  0.725290      1.000000   \n",
       "West Virginia  0.320788  0.740937  0.629468  0.781785      0.412411   \n",
       "average        0.806231  0.667264  0.890774  0.848872      0.847451   \n",
       "\n",
       "               West Virginia   average  \n",
       "Indiana             0.320788  0.806231  \n",
       "Kentucky            0.740937  0.667264  \n",
       "Michigan            0.629468  0.890774  \n",
       "Ohio                0.781785  0.848872  \n",
       "Pennsylvania        0.412411  0.847451  \n",
       "West Virginia       1.000000  0.640067  \n",
       "average             0.640067  1.000000  "
      ]
     },
     "execution_count": 15,
     "metadata": {},
     "output_type": "execute_result"
    }
   ],
   "source": [
    "data['average'] = data[states].mean(axis =1).shift(1)\n",
    "data.corr()"
   ]
  },
  {
   "cell_type": "code",
   "execution_count": 17,
   "metadata": {},
   "outputs": [
    {
     "name": "stdout",
     "output_type": "stream",
     "text": [
      "Indiana\n",
      "Indiana          1.000000\n",
      "Kentucky         0.285648\n",
      "Michigan         0.658353\n",
      "Ohio             0.587251\n",
      "Pennsylvania     0.833627\n",
      "West Virginia    0.320788\n",
      "average          0.806231\n",
      "Name: Indiana, dtype: float64\n",
      "\n",
      "Kentucky\n",
      "Indiana          0.285648\n",
      "Kentucky         1.000000\n",
      "Michigan         0.690001\n",
      "Ohio             0.804197\n",
      "Pennsylvania     0.376399\n",
      "West Virginia    0.740937\n",
      "average          0.667264\n",
      "Name: Kentucky, dtype: float64\n",
      "\n",
      "Michigan\n",
      "Indiana          0.658353\n",
      "Kentucky         0.690001\n",
      "Michigan         1.000000\n",
      "Ohio             0.827707\n",
      "Pennsylvania     0.756347\n",
      "West Virginia    0.629468\n",
      "average          0.890774\n",
      "Name: Michigan, dtype: float64\n",
      "\n",
      "Ohio\n",
      "Indiana          0.587251\n",
      "Kentucky         0.804197\n",
      "Michigan         0.827707\n",
      "Ohio             1.000000\n",
      "Pennsylvania     0.725290\n",
      "West Virginia    0.781785\n",
      "average          0.848872\n",
      "Name: Ohio, dtype: float64\n",
      "\n",
      "Pennsylvania\n",
      "Indiana          0.833627\n",
      "Kentucky         0.376399\n",
      "Michigan         0.756347\n",
      "Ohio             0.725290\n",
      "Pennsylvania     1.000000\n",
      "West Virginia    0.412411\n",
      "average          0.847451\n",
      "Name: Pennsylvania, dtype: float64\n",
      "\n",
      "West Virginia\n",
      "Indiana          0.320788\n",
      "Kentucky         0.740937\n",
      "Michigan         0.629468\n",
      "Ohio             0.781785\n",
      "Pennsylvania     0.412411\n",
      "West Virginia    1.000000\n",
      "average          0.640067\n",
      "Name: West Virginia, dtype: float64\n",
      "\n"
     ]
    }
   ],
   "source": [
    "for state in states:\n",
    "    state_data = data.copy()\n",
    "    state_data[state] = data[state]\n",
    "    print(state)\n",
    "    print(state_data.corr().loc[state])\n",
    "    print()"
   ]
  },
  {
   "cell_type": "code",
   "execution_count": 18,
   "metadata": {},
   "outputs": [
    {
     "data": {
      "text/plain": [
       "<matplotlib.axes._subplots.AxesSubplot at 0x9deb550>"
      ]
     },
     "execution_count": 18,
     "metadata": {},
     "output_type": "execute_result"
    },
    {
     "data": {
      "image/png": "[encoded data removed]",
      "text/plain": [
       "<Figure size 432x288 with 1 Axes>"
      ]
     },
     "metadata": {
      "needs_background": "light"
     },
     "output_type": "display_data"
    }
   ],
   "source": [
    "data[states].plot()"
   ]
  },
  {
   "cell_type": "markdown",
   "metadata": {},
   "source": [
    "# Matrix Manipulation"
   ]
  },
  {
   "cell_type": "code",
   "execution_count": 19,
   "metadata": {},
   "outputs": [],
   "source": [
    "def dim_matrix(matrix):\n",
    "    return len(matrix),len(matrix[0])\n",
    "\n",
    "def diag_to_matrix(array):\n",
    "    length = len(array)\n",
    "    matrix = np.zeros([length,length])\n",
    "\n",
    "    for row in range(0, length):\n",
    "        matrix[row][row] = array[row]\n",
    "\n",
    "    return matrix"
   ]
  },
  {
   "cell_type": "code",
   "execution_count": 20,
   "metadata": {},
   "outputs": [],
   "source": [
    "def spatial_spillover(mean,w_mat,phi,r):\n",
    "    id_mat = diag_to_matrix(len(states)*[1])\n",
    "\n",
    "    m_phi = id_mat - phi*w_mat\n",
    "    m_inv_phi = np.linalg.inv(m_phi)\n",
    "\n",
    "    A  = diag_to_matrix(len(states)*[1])\n",
    "    A[-1] = len(states)*[1]\n",
    "    \n",
    "    prod_mat = np.dot(A, m_inv_phi)\n",
    "    new_cov = np.dot(prod_mat, prod_mat.transpose())\n",
    "    \n",
    "    sig_12 = new_cov[:,-1][0:-1]\n",
    "    sig_22 = new_cov[:,-1][-1]\n",
    "    \n",
    "    new_mean = np.dot(prod_mat,mean)\n",
    "\n",
    "    mu_1 = new_mean[0:-1]\n",
    "    mu_2 = new_mean[-1]\n",
    "\n",
    "    updated_mean = mu_1 + sig_12*(1/sig_22)*(r-mu_2)\n",
    "    updated_mean = np.append(updated_mean, r-updated_mean.sum() )\n",
    "    return updated_mean"
   ]
  },
  {
   "cell_type": "code",
   "execution_count": 21,
   "metadata": {},
   "outputs": [],
   "source": [
    "# def opt_spatial_ses(data,grid_size):\n",
    "#     phi = np.linspace(0,1,grid_size)\n",
    "    \n",
    "#     Holt(model_data.loc[:year][state].values).fit(optimized = True)\n",
    "    "
   ]
  },
  {
   "cell_type": "code",
   "execution_count": 18,
   "metadata": {},
   "outputs": [
    {
     "data": {
      "text/plain": [
       "array([ 6.120642  ,  3.62227023,  5.22563249,  1.46971275, -0.54491661,\n",
       "       -0.89334086])"
      ]
     },
     "execution_count": 18,
     "metadata": {},
     "output_type": "execute_result"
    }
   ],
   "source": [
    "# w_mat = weight_matrix.set_index('W_Matrix').values\n",
    "\n",
    "# spatial_spillover([5,4,3,2,1,0],w_mat,0.95,15)"
   ]
  },
  {
   "cell_type": "markdown",
   "metadata": {},
   "source": [
    "# Forecasting Test"
   ]
  },
  {
   "cell_type": "code",
   "execution_count": 28,
   "metadata": {},
   "outputs": [],
   "source": [
    "# model_data = data.pct_change(1).dropna().loc[1980:]\n",
    "model_data = data\n",
    "years = model_data.index"
   ]
  },
  {
   "cell_type": "markdown",
   "metadata": {},
   "source": [
    "# Distinct Holt Models"
   ]
  },
  {
   "cell_type": "code",
   "execution_count": 78,
   "metadata": {},
   "outputs": [],
   "source": [
    "ses_errors = []\n",
    "\n",
    "for state in states:\n",
    "    for year in years[10:]:\n",
    "        year_index = np.where(year == years)[0][0]\n",
    "        last_year = years[year_index - 1]\n",
    "        \n",
    "        prediction = SimpleExpSmoothing(model_data.loc[:last_year][state].values).fit(optimized = True).predict()[0]\n",
    "        ses_errors.append(  model_data.loc[year,state] - prediction )"
   ]
  },
  {
   "cell_type": "code",
   "execution_count": 79,
   "metadata": {},
   "outputs": [
    {
     "data": {
      "text/plain": [
       "0    2832.73595\n",
       "dtype: float64"
      ]
     },
     "execution_count": 79,
     "metadata": {},
     "output_type": "execute_result"
    }
   ],
   "source": [
    "np.square(pd.DataFrame(ses_errors)).mean()"
   ]
  },
  {
   "cell_type": "markdown",
   "metadata": {},
   "source": [
    "# Hierarchial"
   ]
  },
  {
   "cell_type": "code",
   "execution_count": 93,
   "metadata": {},
   "outputs": [
    {
     "name": "stderr",
     "output_type": "stream",
     "text": [
      "C:\\Users\\michelj8\\Anaconda3\\lib\\site-packages\\statsmodels\\tsa\\holtwinters.py:743: ConvergenceWarning: Optimization failed to converge. Check mle_retvals.\n",
      "  warn(\"Optimization failed to converge. Check mle_retvals.\",\n",
      "C:\\Users\\michelj8\\Anaconda3\\lib\\site-packages\\statsmodels\\tsa\\holtwinters.py:743: ConvergenceWarning: Optimization failed to converge. Check mle_retvals.\n",
      "  warn(\"Optimization failed to converge. Check mle_retvals.\",\n",
      "C:\\Users\\michelj8\\Anaconda3\\lib\\site-packages\\statsmodels\\tsa\\holtwinters.py:743: ConvergenceWarning: Optimization failed to converge. Check mle_retvals.\n",
      "  warn(\"Optimization failed to converge. Check mle_retvals.\",\n",
      "C:\\Users\\michelj8\\Anaconda3\\lib\\site-packages\\statsmodels\\tsa\\holtwinters.py:743: ConvergenceWarning: Optimization failed to converge. Check mle_retvals.\n",
      "  warn(\"Optimization failed to converge. Check mle_retvals.\",\n"
     ]
    }
   ],
   "source": [
    "top_down_errors = []\n",
    "\n",
    "agg_ts = model_data[states].sum(axis = 1)\n",
    "\n",
    "for year in years[10:]:\n",
    "    year_index = np.where(year == years)[0][0]\n",
    "    last_year = years[year_index - 1]\n",
    "    \n",
    "    state_prop = (model_data.loc[:last_year,states].sum())/(model_data.loc[:last_year,states].sum().sum())\n",
    "#     state_prop = model_data.loc[last_year].div(model_data.loc[last_year].sum())\n",
    "\n",
    "    actuals = model_data.loc[year,states]\n",
    "\n",
    "    prediction = Holt(agg_ts.loc[:last_year].values).fit(optimized = True).predict()[0]\n",
    "    year_errors = (actuals - (state_prop * prediction)).values\n",
    "    top_down_errors.extend(year_errors)"
   ]
  },
  {
   "cell_type": "code",
   "execution_count": 144,
   "metadata": {},
   "outputs": [
    {
     "data": {
      "text/plain": [
       "0    6155.627122\n",
       "dtype: float64"
      ]
     },
     "execution_count": 144,
     "metadata": {},
     "output_type": "execute_result"
    }
   ],
   "source": [
    "np.square(pd.DataFrame(top_down_errors)).mean()"
   ]
  },
  {
   "cell_type": "markdown",
   "metadata": {},
   "source": [
    "\n",
    "# VAR"
   ]
  },
  {
   "cell_type": "code",
   "execution_count": 84,
   "metadata": {},
   "outputs": [
    {
     "name": "stderr",
     "output_type": "stream",
     "text": [
      "C:\\Users\\michelj8\\Anaconda3\\lib\\site-packages\\statsmodels\\base\\wrapper.py:36: FutureWarning: y is a deprecated alias for endog, will be removed in version 0.11.0\n",
      "  obj = getattr(results, attr)\n"
     ]
    }
   ],
   "source": [
    "var_errors = []\n",
    "\n",
    "for year in years[10:]:\n",
    "    year_index = np.where(year == years)[0][0]\n",
    "    last_year = years[year_index - 1]\n",
    "    \n",
    "    model = VAR(model_data.loc[:last_year][states].values).fit()\n",
    "    preds = model.forecast(model.y, steps=1)[0]\n",
    "    \n",
    "    var_errors.extend(model_data.loc[year,states].values  - preds)"
   ]
  },
  {
   "cell_type": "code",
   "execution_count": 85,
   "metadata": {},
   "outputs": [
    {
     "data": {
      "text/plain": [
       "0    5042.90443\n",
       "dtype: float64"
      ]
     },
     "execution_count": 85,
     "metadata": {},
     "output_type": "execute_result"
    }
   ],
   "source": [
    "np.square(pd.DataFrame(var_errors)).mean()"
   ]
  },
  {
   "cell_type": "markdown",
   "metadata": {},
   "source": [
    "# Spatial Exp Smooth"
   ]
  },
  {
   "cell_type": "code",
   "execution_count": 94,
   "metadata": {},
   "outputs": [],
   "source": [
    "weight_matrix = weight_matrix.set_index('W_Matrix').values"
   ]
  },
  {
   "cell_type": "code",
   "execution_count": 131,
   "metadata": {},
   "outputs": [
    {
     "name": "stdout",
     "output_type": "stream",
     "text": [
      "0.8888888888888888 0.2222222222222222\n"
     ]
    }
   ],
   "source": [
    "min_obj = 100000\n",
    "min_alpha = 0.0\n",
    "min_phi = 0.0\n",
    "beta = 0.0 \n",
    "\n",
    "for alpha in np.linspace(0,1,10):\n",
    "    for phi in np.linspace(0,1,10):\n",
    "        id_matrix = diag_to_matrix(len(states)*[1])\n",
    "        n_phi = (1-phi)*id_matrix + phi*weight_matrix\n",
    "\n",
    "        spatial_ses_errors = []\n",
    "\n",
    "        for year in years:\n",
    "            year_index = np.where(year==years)[0][0]\n",
    "\n",
    "            if year_index == 0:\n",
    "                level = model_data.loc[year,states]\n",
    "                trend = np.array(len(states)*[0])\n",
    "\n",
    "            else:\n",
    "                old_level = level\n",
    "                level = alpha*model_data.loc[year,states] + (1-alpha)*np.dot(n_phi,level+trend)\n",
    "                trend = beta*(level - old_level) + (1-beta)*trend\n",
    "\n",
    "            if (year_index > 9) & ( (year_index +1) < len(years)):\n",
    "                next_year = years[year_index+1]\n",
    "                spatial_ses_errors.append( (model_data.loc[next_year,states] - level).values[0] )\n",
    "                \n",
    "        obj = np.square(pd.DataFrame(spatial_ses_errors)).mean()[0]\n",
    "        if obj < min_obj:\n",
    "            min_obj, min_alpha, min_phi = obj, alpha, phi\n",
    "\n",
    "print(min_alpha, min_phi)"
   ]
  },
  {
   "cell_type": "code",
   "execution_count": 132,
   "metadata": {},
   "outputs": [],
   "source": [
    "alpha = 0.89\n",
    "phi = 0.222\n",
    "beta = 0.0\n",
    "\n",
    "id_matrix = diag_to_matrix(len(states)*[1])\n",
    "n_phi = (1-phi)*id_matrix + phi*weight_matrix\n",
    "\n",
    "spatial_ses_errors = []\n",
    "\n",
    "for year in years:\n",
    "    year_index = np.where(year==years)[0][0]\n",
    "    \n",
    "    if year_index == 0:\n",
    "        level = model_data.loc[year,states]\n",
    "        trend = np.array(len(states)*[0])\n",
    "        \n",
    "    else:\n",
    "        old_level = level\n",
    "        level = alpha*model_data.loc[year,states] + (1-alpha)*np.dot(n_phi,level+trend)\n",
    "        trend = beta*(level - old_level) + (1-beta)*trend\n",
    "        \n",
    "    if (year_index > 9) & ( (year_index +1) < len(years)):\n",
    "        next_year = years[year_index+1]\n",
    "        spatial_ses_errors.append( (model_data.loc[next_year,states] - level).values[0] )"
   ]
  },
  {
   "cell_type": "code",
   "execution_count": 133,
   "metadata": {},
   "outputs": [
    {
     "data": {
      "text/plain": [
       "1902.4535652872785"
      ]
     },
     "execution_count": 133,
     "metadata": {},
     "output_type": "execute_result"
    }
   ],
   "source": [
    "np.square(pd.DataFrame(spatial_ses_errors)).mean()[0]"
   ]
  },
  {
   "cell_type": "markdown",
   "metadata": {},
   "source": [
    "# SAR Based Top Down"
   ]
  },
  {
   "cell_type": "code",
   "execution_count": 167,
   "metadata": {},
   "outputs": [
    {
     "name": "stderr",
     "output_type": "stream",
     "text": [
      "C:\\Users\\michelj8\\Anaconda3\\lib\\site-packages\\statsmodels\\tsa\\holtwinters.py:743: ConvergenceWarning: Optimization failed to converge. Check mle_retvals.\n",
      "  warn(\"Optimization failed to converge. Check mle_retvals.\",\n",
      "C:\\Users\\michelj8\\Anaconda3\\lib\\site-packages\\statsmodels\\tsa\\holtwinters.py:743: ConvergenceWarning: Optimization failed to converge. Check mle_retvals.\n",
      "  warn(\"Optimization failed to converge. Check mle_retvals.\",\n",
      "C:\\Users\\michelj8\\Anaconda3\\lib\\site-packages\\statsmodels\\tsa\\holtwinters.py:743: ConvergenceWarning: Optimization failed to converge. Check mle_retvals.\n",
      "  warn(\"Optimization failed to converge. Check mle_retvals.\",\n",
      "C:\\Users\\michelj8\\Anaconda3\\lib\\site-packages\\statsmodels\\tsa\\holtwinters.py:743: ConvergenceWarning: Optimization failed to converge. Check mle_retvals.\n",
      "  warn(\"Optimization failed to converge. Check mle_retvals.\",\n"
     ]
    }
   ],
   "source": [
    "phi = 0.0\n",
    "sar_td_errors = []\n",
    "\n",
    "agg_ts = model_data[states].sum(axis = 1)\n",
    "\n",
    "for year in years[10:]:\n",
    "    year_index = np.where(year==years)[0][0]\n",
    "    last_year = years[year_index - 1]\n",
    "    \n",
    "    actuals = model_data.loc[year,states]\n",
    "#     old_means = model_data.loc[:last_year,states].mean().values\n",
    "    old_means = model_data.loc[last_year,states].values\n",
    "\n",
    "    prediction = Holt(agg_ts.loc[:last_year].values).fit(optimized = True).predict()[0]\n",
    "    spatial_preds = spatial_spillover(old_means, weight_matrix, phi, prediction)\n",
    "    \n",
    "    sar_td_errors.extend((actuals - spatial_preds).values)"
   ]
  },
  {
   "cell_type": "code",
   "execution_count": 168,
   "metadata": {},
   "outputs": [
    {
     "data": {
      "text/plain": [
       "0    3091.641758\n",
       "dtype: float64"
      ]
     },
     "execution_count": 168,
     "metadata": {},
     "output_type": "execute_result"
    }
   ],
   "source": [
    "np.square(pd.DataFrame(sar_td_errors)).mean()"
   ]
  },
  {
   "cell_type": "markdown",
   "metadata": {},
   "source": [
    "## Appendix: How well is agg_ts forecasted?"
   ]
  },
  {
   "cell_type": "code",
   "execution_count": 170,
   "metadata": {},
   "outputs": [
    {
     "name": "stderr",
     "output_type": "stream",
     "text": [
      "C:\\Users\\michelj8\\Anaconda3\\lib\\site-packages\\statsmodels\\tsa\\holtwinters.py:743: ConvergenceWarning: Optimization failed to converge. Check mle_retvals.\n",
      "  warn(\"Optimization failed to converge. Check mle_retvals.\",\n",
      "C:\\Users\\michelj8\\Anaconda3\\lib\\site-packages\\statsmodels\\tsa\\holtwinters.py:743: ConvergenceWarning: Optimization failed to converge. Check mle_retvals.\n",
      "  warn(\"Optimization failed to converge. Check mle_retvals.\",\n",
      "C:\\Users\\michelj8\\Anaconda3\\lib\\site-packages\\statsmodels\\tsa\\holtwinters.py:743: ConvergenceWarning: Optimization failed to converge. Check mle_retvals.\n",
      "  warn(\"Optimization failed to converge. Check mle_retvals.\",\n",
      "C:\\Users\\michelj8\\Anaconda3\\lib\\site-packages\\statsmodels\\tsa\\holtwinters.py:743: ConvergenceWarning: Optimization failed to converge. Check mle_retvals.\n",
      "  warn(\"Optimization failed to converge. Check mle_retvals.\",\n"
     ]
    },
    {
     "data": {
      "text/plain": [
       "0    311489.107983\n",
       "dtype: float64"
      ]
     },
     "execution_count": 170,
     "metadata": {},
     "output_type": "execute_result"
    }
   ],
   "source": [
    "agg_errors = []\n",
    "agg_ts = model_data[states].sum(axis = 1)\n",
    "\n",
    "for year in years[10:]:\n",
    "    year_index = np.where(year==years)[0][0]\n",
    "    last_year = years[year_index - 1]    \n",
    "    actual = model_data.loc[year,states].sum()\n",
    "\n",
    "    prediction = Holt(agg_ts.loc[:last_year].values).fit(optimized = True).predict()[0]\n",
    "    agg_errors.append(actual - prediction)\n",
    "    \n",
    "np.square(pd.DataFrame(agg_errors)).sum()/6.0"
   ]
  },
  {
   "cell_type": "code",
   "execution_count": 171,
   "metadata": {},
   "outputs": [
    {
     "data": {
      "text/plain": [
       "<matplotlib.axes._subplots.AxesSubplot at 0xda5178>"
      ]
     },
     "execution_count": 171,
     "metadata": {},
     "output_type": "execute_result"
    },
    {
     "data": {
      "image/png": "[encoded data removed]",
      "text/plain": [
       "<Figure size 432x288 with 1 Axes>"
      ]
     },
     "metadata": {
      "needs_background": "light"
     },
     "output_type": "display_data"
    }
   ],
   "source": [
    "model_data[states].plot()"
   ]
  },
  {
   "cell_type": "code",
   "execution_count": 184,
   "metadata": {},
   "outputs": [
    {
     "data": {
      "text/plain": [
       "2107.1576604916168"
      ]
     },
     "execution_count": 184,
     "metadata": {},
     "output_type": "execute_result"
    }
   ],
   "source": [
    "prediction = Holt(agg_ts.pct_change(1).dropna().values).fit(optimized = True).predict()[0]\n",
    "(prediction+1) * agg_ts[year]"
   ]
  },
  {
   "cell_type": "code",
   "execution_count": 187,
   "metadata": {},
   "outputs": [
    {
     "data": {
      "text/plain": [
       "0    334294.078138\n",
       "dtype: float64"
      ]
     },
     "execution_count": 187,
     "metadata": {},
     "output_type": "execute_result"
    }
   ],
   "source": [
    "agg_errors = []\n",
    "agg_ts = model_data[states].sum(axis = 1)\n",
    "\n",
    "for year in years[10:]:\n",
    "    year_index = np.where(year==years)[0][0]\n",
    "    last_year = years[year_index - 1]    \n",
    "    actual = model_data.loc[year,states].sum()\n",
    "\n",
    "    pred_rate = Holt(agg_ts.loc[:last_year].pct_change().dropna().values).fit(optimized = True).predict()[0]\n",
    "    prediction = (1.0 + pred_rate)*agg_ts.loc[last_year]\n",
    "    agg_errors.append(actual - prediction)\n",
    "    \n",
    "np.square(pd.DataFrame(agg_errors)).sum()/6.0"
   ]
  },
  {
   "cell_type": "code",
   "execution_count": null,
   "metadata": {},
   "outputs": [],
   "source": []
  }
 ],
 "metadata": {
  "kernelspec": {
   "display_name": "Python 3",
   "language": "python",
   "name": "python3"
  },
  "language_info": {
   "codemirror_mode": {
    "name": "ipython",
    "version": 3
   },
   "file_extension": ".py",
   "mimetype": "text/x-python",
   "name": "python",
   "nbconvert_exporter": "python",
   "pygments_lexer": "ipython3",
   "version": "3.8.3"
  }
 },
 "nbformat": 4,
 "nbformat_minor": 4
}
