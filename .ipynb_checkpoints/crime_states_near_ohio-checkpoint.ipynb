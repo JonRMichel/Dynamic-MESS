{
 "cells": [
  {
   "cell_type": "code",
   "execution_count": 1,
   "metadata": {},
   "outputs": [],
   "source": [
    "import numpy as np\n",
    "import pandas as pd\n",
    "import matplotlib.pyplot as plt\n",
    "from statsmodels.tsa.holtwinters import ExponentialSmoothing, Holt, SimpleExpSmoothing\n",
    "from statsmodels.tsa.api import VAR"
   ]
  },
  {
   "cell_type": "code",
   "execution_count": 2,
   "metadata": {},
   "outputs": [],
   "source": [
    "data  = pd.read_excel( \"C:/Users/michelj8/Documents/GitHub/Dynamic-MESS/crime_states_adj_ohio.xlsx\", 'MurderPop')\n",
    "weight_matrix = pd.read_excel( \"C:/Users/michelj8/Documents/GitHub/Dynamic-MESS/crime_states_adj_ohio.xlsx\", 'Weight Matrix')"
   ]
  },
  {
   "cell_type": "code",
   "execution_count": 3,
   "metadata": {},
   "outputs": [],
   "source": [
    "data = data.set_index('Year')\n",
    "states = list(data.columns)"
   ]
  },
  {
   "cell_type": "code",
   "execution_count": 4,
   "metadata": {},
   "outputs": [
    {
     "name": "stdout",
     "output_type": "stream",
     "text": [
      "Indiana 7.829975780065993e-09 3.4697734092763818e-09\n",
      "Kentucky 0.17213926459683254 0.1719756718814235\n",
      "Michigan 0.09001984016445023 0.0\n",
      "Ohio 0.08190676562291602 0.0\n",
      "Pennsylvania 0.2631578947368421 0.2631578947368421\n",
      "West Virginia 0.3157894736842105 0.3157894736842105\n"
     ]
    },
    {
     "name": "stderr",
     "output_type": "stream",
     "text": [
      "C:\\Users\\michelj8\\Anaconda3\\lib\\site-packages\\statsmodels\\tsa\\holtwinters.py:731: RuntimeWarning: invalid value encountered in greater_equal\n",
      "  loc = initial_p >= ub\n",
      "C:\\Users\\michelj8\\Anaconda3\\lib\\site-packages\\statsmodels\\tsa\\holtwinters.py:743: ConvergenceWarning: Optimization failed to converge. Check mle_retvals.\n",
      "  warn(\"Optimization failed to converge. Check mle_retvals.\",\n",
      "C:\\Users\\michelj8\\Anaconda3\\lib\\site-packages\\statsmodels\\tsa\\holtwinters.py:743: ConvergenceWarning: Optimization failed to converge. Check mle_retvals.\n",
      "  warn(\"Optimization failed to converge. Check mle_retvals.\",\n",
      "C:\\Users\\michelj8\\Anaconda3\\lib\\site-packages\\statsmodels\\tsa\\holtwinters.py:743: ConvergenceWarning: Optimization failed to converge. Check mle_retvals.\n",
      "  warn(\"Optimization failed to converge. Check mle_retvals.\",\n"
     ]
    }
   ],
   "source": [
    "for state in states:\n",
    "    model = Holt(data.pct_change(1).dropna()[state].values).fit(optimized=True)\n",
    "    print(state, model.params['smoothing_level'], model.params['smoothing_slope'])"
   ]
  },
  {
   "cell_type": "code",
   "execution_count": 5,
   "metadata": {},
   "outputs": [
    {
     "name": "stdout",
     "output_type": "stream",
     "text": [
      "Indiana 0.9614093072098795 0.0\n",
      "Kentucky 0.8438542572640703 0.0\n",
      "Michigan 1.0 0.0\n",
      "Ohio 1.0 0.0\n",
      "Pennsylvania 0.9761383956335764 0.0\n",
      "West Virginia 0.6480491008794752 0.0\n"
     ]
    }
   ],
   "source": [
    "for state in states:\n",
    "    model = Holt(data[state].values).fit(optimized=True)\n",
    "    print(state, model.params['smoothing_level'], model.params['smoothing_slope'])"
   ]
  },
  {
   "cell_type": "code",
   "execution_count": 6,
   "metadata": {},
   "outputs": [
    {
     "name": "stderr",
     "output_type": "stream",
     "text": [
      "C:\\Users\\michelj8\\Anaconda3\\lib\\site-packages\\statsmodels\\tsa\\holtwinters.py:725: RuntimeWarning: invalid value encountered in less_equal\n",
      "  loc = initial_p <= lb\n",
      "C:\\Users\\michelj8\\Anaconda3\\lib\\site-packages\\scipy\\optimize\\_numdiff.py:390: RuntimeWarning: invalid value encountered in less\n",
      "  if np.any((x0 < lb) | (x0 > ub)):\n",
      "C:\\Users\\michelj8\\Anaconda3\\lib\\site-packages\\scipy\\optimize\\_numdiff.py:390: RuntimeWarning: invalid value encountered in greater\n",
      "  if np.any((x0 < lb) | (x0 > ub)):\n",
      "C:\\Users\\michelj8\\Anaconda3\\lib\\site-packages\\scipy\\optimize\\_numdiff.py:405: RuntimeWarning: invalid value encountered in greater_equal\n",
      "  sign_x0 = (x0 >= 0).astype(float) * 2 - 1\n",
      "C:\\Users\\michelj8\\Anaconda3\\lib\\site-packages\\scipy\\optimize\\_numdiff.py:63: RuntimeWarning: invalid value encountered in less\n",
      "  violated = (x < lb) | (x > ub)\n",
      "C:\\Users\\michelj8\\Anaconda3\\lib\\site-packages\\scipy\\optimize\\_numdiff.py:63: RuntimeWarning: invalid value encountered in greater\n",
      "  violated = (x < lb) | (x > ub)\n",
      "C:\\Users\\michelj8\\Anaconda3\\lib\\site-packages\\scipy\\optimize\\_numdiff.py:64: RuntimeWarning: invalid value encountered in less_equal\n",
      "  fitting = np.abs(h_total) <= np.maximum(lower_dist, upper_dist)\n",
      "C:\\Users\\michelj8\\Anaconda3\\lib\\site-packages\\scipy\\optimize\\_numdiff.py:67: RuntimeWarning: invalid value encountered in greater_equal\n",
      "  forward = (upper_dist >= lower_dist) & ~fitting\n",
      "C:\\Users\\michelj8\\Anaconda3\\lib\\site-packages\\scipy\\optimize\\_numdiff.py:69: RuntimeWarning: invalid value encountered in less\n",
      "  backward = (upper_dist < lower_dist) & ~fitting\n",
      "C:\\Users\\michelj8\\Anaconda3\\lib\\site-packages\\statsmodels\\tsa\\holtwinters.py:743: ConvergenceWarning: Optimization failed to converge. Check mle_retvals.\n",
      "  warn(\"Optimization failed to converge. Check mle_retvals.\",\n",
      "C:\\Users\\michelj8\\Anaconda3\\lib\\site-packages\\statsmodels\\tsa\\holtwinters.py:743: ConvergenceWarning: Optimization failed to converge. Check mle_retvals.\n",
      "  warn(\"Optimization failed to converge. Check mle_retvals.\",\n",
      "C:\\Users\\michelj8\\Anaconda3\\lib\\site-packages\\statsmodels\\tsa\\holtwinters.py:743: ConvergenceWarning: Optimization failed to converge. Check mle_retvals.\n",
      "  warn(\"Optimization failed to converge. Check mle_retvals.\",\n"
     ]
    },
    {
     "name": "stdout",
     "output_type": "stream",
     "text": [
      "Indiana 0.05263157894736842 0.0001\n",
      "Kentucky 0.05263157894736842 0.0001\n",
      "Michigan 0.05263157894736842 0.0001\n",
      "Ohio 0.05263157894736842 0.0001\n",
      "Pennsylvania 0.05263157894736842 0.0001\n",
      "West Virginia 0.05263157894736842 0.0001\n"
     ]
    },
    {
     "name": "stderr",
     "output_type": "stream",
     "text": [
      "C:\\Users\\michelj8\\Anaconda3\\lib\\site-packages\\statsmodels\\tsa\\holtwinters.py:743: ConvergenceWarning: Optimization failed to converge. Check mle_retvals.\n",
      "  warn(\"Optimization failed to converge. Check mle_retvals.\",\n",
      "C:\\Users\\michelj8\\Anaconda3\\lib\\site-packages\\statsmodels\\tsa\\holtwinters.py:743: ConvergenceWarning: Optimization failed to converge. Check mle_retvals.\n",
      "  warn(\"Optimization failed to converge. Check mle_retvals.\",\n",
      "C:\\Users\\michelj8\\Anaconda3\\lib\\site-packages\\statsmodels\\tsa\\holtwinters.py:743: ConvergenceWarning: Optimization failed to converge. Check mle_retvals.\n",
      "  warn(\"Optimization failed to converge. Check mle_retvals.\",\n"
     ]
    }
   ],
   "source": [
    "for state in states:\n",
    "    model = Holt(data[state].diff().values).fit(optimized=True)\n",
    "    print(state, model.params['smoothing_level'], model.params['smoothing_slope'])"
   ]
  },
  {
   "cell_type": "code",
   "execution_count": 7,
   "metadata": {},
   "outputs": [
    {
     "name": "stderr",
     "output_type": "stream",
     "text": [
      "C:\\Users\\michelj8\\Anaconda3\\lib\\site-packages\\statsmodels\\tsa\\base\\tsa_model.py:213: ValueWarning: An unsupported index was provided and will be ignored when e.g. forecasting.\n",
      "  warnings.warn('An unsupported index was provided and will be'\n"
     ]
    },
    {
     "data": {
      "text/html": [
       "<div>\n",
       "<style scoped>\n",
       "    .dataframe tbody tr th:only-of-type {\n",
       "        vertical-align: middle;\n",
       "    }\n",
       "\n",
       "    .dataframe tbody tr th {\n",
       "        vertical-align: top;\n",
       "    }\n",
       "\n",
       "    .dataframe thead th {\n",
       "        text-align: right;\n",
       "    }\n",
       "</style>\n",
       "<table border=\"1\" class=\"dataframe\">\n",
       "  <thead>\n",
       "    <tr style=\"text-align: right;\">\n",
       "      <th></th>\n",
       "      <th>Indiana</th>\n",
       "      <th>Kentucky</th>\n",
       "      <th>Michigan</th>\n",
       "      <th>Ohio</th>\n",
       "      <th>Pennsylvania</th>\n",
       "      <th>West Virginia</th>\n",
       "    </tr>\n",
       "  </thead>\n",
       "  <tbody>\n",
       "    <tr>\n",
       "      <th>const</th>\n",
       "      <td>0.003497</td>\n",
       "      <td>-0.011632</td>\n",
       "      <td>0.002720</td>\n",
       "      <td>0.003524</td>\n",
       "      <td>0.015497</td>\n",
       "      <td>0.016693</td>\n",
       "    </tr>\n",
       "    <tr>\n",
       "      <th>L1.Indiana</th>\n",
       "      <td>-0.150138</td>\n",
       "      <td>0.299976</td>\n",
       "      <td>0.133772</td>\n",
       "      <td>0.077938</td>\n",
       "      <td>-0.046623</td>\n",
       "      <td>0.118013</td>\n",
       "    </tr>\n",
       "    <tr>\n",
       "      <th>L1.Kentucky</th>\n",
       "      <td>-0.142071</td>\n",
       "      <td>-0.286767</td>\n",
       "      <td>-0.093446</td>\n",
       "      <td>0.062314</td>\n",
       "      <td>-0.070959</td>\n",
       "      <td>0.073645</td>\n",
       "    </tr>\n",
       "    <tr>\n",
       "      <th>L1.Michigan</th>\n",
       "      <td>0.562634</td>\n",
       "      <td>0.332794</td>\n",
       "      <td>-0.007280</td>\n",
       "      <td>0.258893</td>\n",
       "      <td>0.080727</td>\n",
       "      <td>-0.158905</td>\n",
       "    </tr>\n",
       "    <tr>\n",
       "      <th>L1.Ohio</th>\n",
       "      <td>0.155336</td>\n",
       "      <td>-0.221981</td>\n",
       "      <td>0.320262</td>\n",
       "      <td>-0.077538</td>\n",
       "      <td>0.432521</td>\n",
       "      <td>0.632839</td>\n",
       "    </tr>\n",
       "    <tr>\n",
       "      <th>L1.Pennsylvania</th>\n",
       "      <td>0.229705</td>\n",
       "      <td>0.101057</td>\n",
       "      <td>0.233120</td>\n",
       "      <td>0.177770</td>\n",
       "      <td>-0.224136</td>\n",
       "      <td>0.036761</td>\n",
       "    </tr>\n",
       "    <tr>\n",
       "      <th>L1.West Virginia</th>\n",
       "      <td>-0.177536</td>\n",
       "      <td>0.183080</td>\n",
       "      <td>-0.017189</td>\n",
       "      <td>-0.001429</td>\n",
       "      <td>0.059261</td>\n",
       "      <td>-0.361690</td>\n",
       "    </tr>\n",
       "  </tbody>\n",
       "</table>\n",
       "</div>"
      ],
      "text/plain": [
       "                   Indiana  Kentucky  Michigan      Ohio  Pennsylvania  \\\n",
       "const             0.003497 -0.011632  0.002720  0.003524      0.015497   \n",
       "L1.Indiana       -0.150138  0.299976  0.133772  0.077938     -0.046623   \n",
       "L1.Kentucky      -0.142071 -0.286767 -0.093446  0.062314     -0.070959   \n",
       "L1.Michigan       0.562634  0.332794 -0.007280  0.258893      0.080727   \n",
       "L1.Ohio           0.155336 -0.221981  0.320262 -0.077538      0.432521   \n",
       "L1.Pennsylvania   0.229705  0.101057  0.233120  0.177770     -0.224136   \n",
       "L1.West Virginia -0.177536  0.183080 -0.017189 -0.001429      0.059261   \n",
       "\n",
       "                  West Virginia  \n",
       "const                  0.016693  \n",
       "L1.Indiana             0.118013  \n",
       "L1.Kentucky            0.073645  \n",
       "L1.Michigan           -0.158905  \n",
       "L1.Ohio                0.632839  \n",
       "L1.Pennsylvania        0.036761  \n",
       "L1.West Virginia      -0.361690  "
      ]
     },
     "execution_count": 7,
     "metadata": {},
     "output_type": "execute_result"
    }
   ],
   "source": [
    "model = VAR(data.pct_change(1).dropna()).fit()\n",
    "model.params"
   ]
  },
  {
   "cell_type": "code",
   "execution_count": 8,
   "metadata": {},
   "outputs": [
    {
     "data": {
      "text/plain": [
       "<matplotlib.axes._subplots.AxesSubplot at 0xb10ef28>"
      ]
     },
     "execution_count": 8,
     "metadata": {},
     "output_type": "execute_result"
    },
    {
     "data": {
      "image/png": "[encoded data removed]",
      "text/plain": [
       "<Figure size 432x288 with 1 Axes>"
      ]
     },
     "metadata": {
      "needs_background": "light"
     },
     "output_type": "display_data"
    }
   ],
   "source": [
    "data.sum(axis = 1).pct_change().plot()"
   ]
  },
  {
   "cell_type": "code",
   "execution_count": 9,
   "metadata": {},
   "outputs": [
    {
     "name": "stdout",
     "output_type": "stream",
     "text": [
      "Indiana -0.0043811806049009454\n",
      "Kentucky -0.26688417195665354\n",
      "Michigan 0.12216042594427676\n",
      "Ohio 0.1243055238793903\n",
      "Pennsylvania -0.0650385572564456\n",
      "West Virginia -0.3031812108420118\n"
     ]
    }
   ],
   "source": [
    "for state in states:\n",
    "    print(state, data[state].pct_change().autocorr())"
   ]
  },
  {
   "cell_type": "code",
   "execution_count": 10,
   "metadata": {},
   "outputs": [
    {
     "data": {
      "text/html": [
       "<div>\n",
       "<style scoped>\n",
       "    .dataframe tbody tr th:only-of-type {\n",
       "        vertical-align: middle;\n",
       "    }\n",
       "\n",
       "    .dataframe tbody tr th {\n",
       "        vertical-align: top;\n",
       "    }\n",
       "\n",
       "    .dataframe thead th {\n",
       "        text-align: right;\n",
       "    }\n",
       "</style>\n",
       "<table border=\"1\" class=\"dataframe\">\n",
       "  <thead>\n",
       "    <tr style=\"text-align: right;\">\n",
       "      <th></th>\n",
       "      <th>Indiana</th>\n",
       "      <th>Kentucky</th>\n",
       "      <th>Michigan</th>\n",
       "      <th>Ohio</th>\n",
       "      <th>Pennsylvania</th>\n",
       "      <th>West Virginia</th>\n",
       "      <th>average</th>\n",
       "    </tr>\n",
       "  </thead>\n",
       "  <tbody>\n",
       "    <tr>\n",
       "      <th>Indiana</th>\n",
       "      <td>1.000000</td>\n",
       "      <td>0.333275</td>\n",
       "      <td>0.687348</td>\n",
       "      <td>0.672404</td>\n",
       "      <td>0.802080</td>\n",
       "      <td>0.494467</td>\n",
       "      <td>0.792345</td>\n",
       "    </tr>\n",
       "    <tr>\n",
       "      <th>Kentucky</th>\n",
       "      <td>0.333275</td>\n",
       "      <td>1.000000</td>\n",
       "      <td>0.645329</td>\n",
       "      <td>0.774919</td>\n",
       "      <td>0.263323</td>\n",
       "      <td>0.736591</td>\n",
       "      <td>0.726077</td>\n",
       "    </tr>\n",
       "    <tr>\n",
       "      <th>Michigan</th>\n",
       "      <td>0.687348</td>\n",
       "      <td>0.645329</td>\n",
       "      <td>1.000000</td>\n",
       "      <td>0.835964</td>\n",
       "      <td>0.727053</td>\n",
       "      <td>0.670378</td>\n",
       "      <td>0.882507</td>\n",
       "    </tr>\n",
       "    <tr>\n",
       "      <th>Ohio</th>\n",
       "      <td>0.672404</td>\n",
       "      <td>0.774919</td>\n",
       "      <td>0.835964</td>\n",
       "      <td>1.000000</td>\n",
       "      <td>0.716865</td>\n",
       "      <td>0.813891</td>\n",
       "      <td>0.895278</td>\n",
       "    </tr>\n",
       "    <tr>\n",
       "      <th>Pennsylvania</th>\n",
       "      <td>0.802080</td>\n",
       "      <td>0.263323</td>\n",
       "      <td>0.727053</td>\n",
       "      <td>0.716865</td>\n",
       "      <td>1.000000</td>\n",
       "      <td>0.487091</td>\n",
       "      <td>0.751965</td>\n",
       "    </tr>\n",
       "    <tr>\n",
       "      <th>West Virginia</th>\n",
       "      <td>0.494467</td>\n",
       "      <td>0.736591</td>\n",
       "      <td>0.670378</td>\n",
       "      <td>0.813891</td>\n",
       "      <td>0.487091</td>\n",
       "      <td>1.000000</td>\n",
       "      <td>0.757776</td>\n",
       "    </tr>\n",
       "    <tr>\n",
       "      <th>average</th>\n",
       "      <td>0.792345</td>\n",
       "      <td>0.726077</td>\n",
       "      <td>0.882507</td>\n",
       "      <td>0.895278</td>\n",
       "      <td>0.751965</td>\n",
       "      <td>0.757776</td>\n",
       "      <td>1.000000</td>\n",
       "    </tr>\n",
       "  </tbody>\n",
       "</table>\n",
       "</div>"
      ],
      "text/plain": [
       "                Indiana  Kentucky  Michigan      Ohio  Pennsylvania  \\\n",
       "Indiana        1.000000  0.333275  0.687348  0.672404      0.802080   \n",
       "Kentucky       0.333275  1.000000  0.645329  0.774919      0.263323   \n",
       "Michigan       0.687348  0.645329  1.000000  0.835964      0.727053   \n",
       "Ohio           0.672404  0.774919  0.835964  1.000000      0.716865   \n",
       "Pennsylvania   0.802080  0.263323  0.727053  0.716865      1.000000   \n",
       "West Virginia  0.494467  0.736591  0.670378  0.813891      0.487091   \n",
       "average        0.792345  0.726077  0.882507  0.895278      0.751965   \n",
       "\n",
       "               West Virginia   average  \n",
       "Indiana             0.494467  0.792345  \n",
       "Kentucky            0.736591  0.726077  \n",
       "Michigan            0.670378  0.882507  \n",
       "Ohio                0.813891  0.895278  \n",
       "Pennsylvania        0.487091  0.751965  \n",
       "West Virginia       1.000000  0.757776  \n",
       "average             0.757776  1.000000  "
      ]
     },
     "execution_count": 10,
     "metadata": {},
     "output_type": "execute_result"
    }
   ],
   "source": [
    "data['average'] = data[states].mean(axis =1).shift(1)\n",
    "data.corr()"
   ]
  },
  {
   "cell_type": "code",
   "execution_count": 11,
   "metadata": {},
   "outputs": [
    {
     "name": "stdout",
     "output_type": "stream",
     "text": [
      "Indiana\n",
      "Indiana          1.000000\n",
      "Kentucky         0.031493\n",
      "Michigan         0.470601\n",
      "Ohio             0.171523\n",
      "Pennsylvania     0.305161\n",
      "West Virginia   -0.148716\n",
      "average          0.166785\n",
      "Name: Indiana, dtype: float64\n",
      "\n",
      "Kentucky\n",
      "Indiana          0.282686\n",
      "Kentucky         1.000000\n",
      "Michigan         0.266637\n",
      "Ohio             0.049636\n",
      "Pennsylvania     0.140646\n",
      "West Virginia    0.332486\n",
      "average          0.137916\n",
      "Name: Kentucky, dtype: float64\n",
      "\n",
      "Michigan\n",
      "Indiana          0.322102\n",
      "Kentucky        -0.027723\n",
      "Michigan         1.000000\n",
      "Ohio             0.411534\n",
      "Pennsylvania     0.350808\n",
      "West Virginia    0.074983\n",
      "average          0.095461\n",
      "Name: Michigan, dtype: float64\n",
      "\n",
      "Ohio\n",
      "Indiana          0.143356\n",
      "Kentucky         0.159981\n",
      "Michigan         0.348276\n",
      "Ohio             1.000000\n",
      "Pennsylvania     0.273972\n",
      "West Virginia    0.056571\n",
      "average          0.112609\n",
      "Name: Ohio, dtype: float64\n",
      "\n",
      "Pennsylvania\n",
      "Indiana          0.094463\n",
      "Kentucky        -0.025980\n",
      "Michigan         0.111273\n",
      "Ohio             0.317384\n",
      "Pennsylvania     1.000000\n",
      "West Virginia    0.184222\n",
      "average          0.084976\n",
      "Name: Pennsylvania, dtype: float64\n",
      "\n",
      "West Virginia\n",
      "Indiana          0.167787\n",
      "Kentucky         0.119971\n",
      "Michigan        -0.043275\n",
      "Ohio             0.267659\n",
      "Pennsylvania     0.096780\n",
      "West Virginia    1.000000\n",
      "average          0.022214\n",
      "Name: West Virginia, dtype: float64\n",
      "\n"
     ]
    }
   ],
   "source": [
    "for state in states:\n",
    "    state_data = data.pct_change(1).shift(1).copy()\n",
    "    state_data[state] = data[state].pct_change(1)\n",
    "    print(state)\n",
    "    print(state_data.corr().loc[state])\n",
    "    print()"
   ]
  },
  {
   "cell_type": "code",
   "execution_count": 12,
   "metadata": {},
   "outputs": [
    {
     "data": {
      "text/plain": [
       "<matplotlib.axes._subplots.AxesSubplot at 0xb7d3a60>"
      ]
     },
     "execution_count": 12,
     "metadata": {},
     "output_type": "execute_result"
    },
    {
     "data": {
      "image/png": "[encoded data removed]",
      "text/plain": [
       "<Figure size 432x288 with 1 Axes>"
      ]
     },
     "metadata": {
      "needs_background": "light"
     },
     "output_type": "display_data"
    }
   ],
   "source": [
    "data[states].plot()"
   ]
  },
  {
   "cell_type": "code",
   "execution_count": 13,
   "metadata": {},
   "outputs": [
    {
     "data": {
      "text/plain": [
       "Indiana          1.374527\n",
       "Kentucky        -0.048896\n",
       "Michigan        -0.227554\n",
       "Ohio             0.502775\n",
       "Pennsylvania    -0.300997\n",
       "West Virginia   -0.299854\n",
       "dtype: float64"
      ]
     },
     "execution_count": 13,
     "metadata": {},
     "output_type": "execute_result"
    }
   ],
   "source": [
    "data[states].pct_change().dropna().div(data[states].pct_change().sum(axis = 1).dropna(), axis = 0).mean()"
   ]
  },
  {
   "cell_type": "code",
   "execution_count": 14,
   "metadata": {},
   "outputs": [
    {
     "data": {
      "text/plain": [
       "Indiana          0.010080\n",
       "Kentucky        -0.002188\n",
       "Michigan         0.009228\n",
       "Ohio             0.008990\n",
       "Pennsylvania     0.016802\n",
       "West Virginia    0.017703\n",
       "dtype: float64"
      ]
     },
     "execution_count": 14,
     "metadata": {},
     "output_type": "execute_result"
    }
   ],
   "source": [
    "data[states].pct_change().mean()"
   ]
  },
  {
   "cell_type": "markdown",
   "metadata": {},
   "source": [
    "# Matrix Manipulation"
   ]
  },
  {
   "cell_type": "code",
   "execution_count": 15,
   "metadata": {},
   "outputs": [],
   "source": [
    "def dim_matrix(matrix):\n",
    "    return len(matrix),len(matrix[0])\n",
    "\n",
    "def diag_to_matrix(array):\n",
    "    length = len(array)\n",
    "    matrix = np.zeros([length,length])\n",
    "\n",
    "    for row in range(0, length):\n",
    "        matrix[row][row] = array[row]\n",
    "\n",
    "    return matrix"
   ]
  },
  {
   "cell_type": "code",
   "execution_count": 16,
   "metadata": {},
   "outputs": [],
   "source": [
    "def spatial_spillover(mean,w_mat,phi,r):\n",
    "    id_mat = diag_to_matrix(len(states)*[1])\n",
    "\n",
    "    m_phi = id_mat - phi*w_mat\n",
    "    m_inv_phi = np.linalg.inv(m_phi)\n",
    "\n",
    "    A  = diag_to_matrix(len(states)*[1])\n",
    "    A[-1] = len(states)*[1]\n",
    "    \n",
    "    prod_mat = np.dot(A, m_inv_phi)\n",
    "    new_cov = np.dot(prod_mat, prod_mat.transpose())\n",
    "    \n",
    "    sig_12 = new_cov[:,-1][0:-1]\n",
    "    sig_22 = new_cov[:,-1][-1]\n",
    "    \n",
    "    new_mean = np.dot(prod_mat,mean)\n",
    "\n",
    "    mu_1 = new_mean[0:-1]\n",
    "    mu_2 = new_mean[-1]\n",
    "\n",
    "    updated_mean = mu_1 + sig_12*(1/sig_22)*(r-mu_2)\n",
    "    updated_mean = np.append(updated_mean, r-updated_mean.sum() )\n",
    "    return updated_mean"
   ]
  },
  {
   "cell_type": "code",
   "execution_count": 17,
   "metadata": {},
   "outputs": [],
   "source": [
    "# def opt_spatial_ses(data,grid_size):\n",
    "#     phi = np.linspace(0,1,grid_size)\n",
    "    \n",
    "#     Holt(model_data.loc[:year][state].values).fit(optimized = True)\n",
    "    "
   ]
  },
  {
   "cell_type": "code",
   "execution_count": 18,
   "metadata": {},
   "outputs": [
    {
     "data": {
      "text/plain": [
       "array([ 6.120642  ,  3.62227023,  5.22563249,  1.46971275, -0.54491661,\n",
       "       -0.89334086])"
      ]
     },
     "execution_count": 18,
     "metadata": {},
     "output_type": "execute_result"
    }
   ],
   "source": [
    "w_mat = weight_matrix.set_index('W_Matrix').values\n",
    "\n",
    "spatial_spillover([5,4,3,2,1,0],w_mat,0.95,15)"
   ]
  },
  {
   "cell_type": "markdown",
   "metadata": {},
   "source": [
    "# Forecasting Test"
   ]
  },
  {
   "cell_type": "code",
   "execution_count": 43,
   "metadata": {},
   "outputs": [],
   "source": [
    "# model_data = data.pct_change(1).dropna().loc[1980:]\n",
    "model_data = data.pct_change(1).dropna()\n",
    "\n",
    "\n",
    "years = model_data.index"
   ]
  },
  {
   "cell_type": "markdown",
   "metadata": {},
   "source": [
    "# Distinct Holt Models"
   ]
  },
  {
   "cell_type": "code",
   "execution_count": 44,
   "metadata": {},
   "outputs": [
    {
     "name": "stderr",
     "output_type": "stream",
     "text": [
      "C:\\Users\\michelj8\\Anaconda3\\lib\\site-packages\\statsmodels\\tsa\\holtwinters.py:731: RuntimeWarning: invalid value encountered in greater_equal\n",
      "  loc = initial_p >= ub\n",
      "C:\\Users\\michelj8\\Anaconda3\\lib\\site-packages\\statsmodels\\tsa\\holtwinters.py:743: ConvergenceWarning: Optimization failed to converge. Check mle_retvals.\n",
      "  warn(\"Optimization failed to converge. Check mle_retvals.\",\n",
      "C:\\Users\\michelj8\\Anaconda3\\lib\\site-packages\\statsmodels\\tsa\\holtwinters.py:743: ConvergenceWarning: Optimization failed to converge. Check mle_retvals.\n",
      "  warn(\"Optimization failed to converge. Check mle_retvals.\",\n",
      "C:\\Users\\michelj8\\Anaconda3\\lib\\site-packages\\statsmodels\\tsa\\holtwinters.py:743: ConvergenceWarning: Optimization failed to converge. Check mle_retvals.\n",
      "  warn(\"Optimization failed to converge. Check mle_retvals.\",\n",
      "C:\\Users\\michelj8\\Anaconda3\\lib\\site-packages\\statsmodels\\tsa\\holtwinters.py:743: ConvergenceWarning: Optimization failed to converge. Check mle_retvals.\n",
      "  warn(\"Optimization failed to converge. Check mle_retvals.\",\n",
      "C:\\Users\\michelj8\\Anaconda3\\lib\\site-packages\\statsmodels\\tsa\\holtwinters.py:743: ConvergenceWarning: Optimization failed to converge. Check mle_retvals.\n",
      "  warn(\"Optimization failed to converge. Check mle_retvals.\",\n",
      "C:\\Users\\michelj8\\Anaconda3\\lib\\site-packages\\statsmodels\\tsa\\holtwinters.py:743: ConvergenceWarning: Optimization failed to converge. Check mle_retvals.\n",
      "  warn(\"Optimization failed to converge. Check mle_retvals.\",\n",
      "C:\\Users\\michelj8\\Anaconda3\\lib\\site-packages\\statsmodels\\tsa\\holtwinters.py:743: ConvergenceWarning: Optimization failed to converge. Check mle_retvals.\n",
      "  warn(\"Optimization failed to converge. Check mle_retvals.\",\n",
      "C:\\Users\\michelj8\\Anaconda3\\lib\\site-packages\\statsmodels\\tsa\\holtwinters.py:743: ConvergenceWarning: Optimization failed to converge. Check mle_retvals.\n",
      "  warn(\"Optimization failed to converge. Check mle_retvals.\",\n",
      "C:\\Users\\michelj8\\Anaconda3\\lib\\site-packages\\statsmodels\\tsa\\holtwinters.py:743: ConvergenceWarning: Optimization failed to converge. Check mle_retvals.\n",
      "  warn(\"Optimization failed to converge. Check mle_retvals.\",\n",
      "C:\\Users\\michelj8\\Anaconda3\\lib\\site-packages\\statsmodels\\tsa\\holtwinters.py:743: ConvergenceWarning: Optimization failed to converge. Check mle_retvals.\n",
      "  warn(\"Optimization failed to converge. Check mle_retvals.\",\n",
      "C:\\Users\\michelj8\\Anaconda3\\lib\\site-packages\\statsmodels\\tsa\\holtwinters.py:743: ConvergenceWarning: Optimization failed to converge. Check mle_retvals.\n",
      "  warn(\"Optimization failed to converge. Check mle_retvals.\",\n",
      "C:\\Users\\michelj8\\Anaconda3\\lib\\site-packages\\statsmodels\\tsa\\holtwinters.py:743: ConvergenceWarning: Optimization failed to converge. Check mle_retvals.\n",
      "  warn(\"Optimization failed to converge. Check mle_retvals.\",\n",
      "C:\\Users\\michelj8\\Anaconda3\\lib\\site-packages\\statsmodels\\tsa\\holtwinters.py:743: ConvergenceWarning: Optimization failed to converge. Check mle_retvals.\n",
      "  warn(\"Optimization failed to converge. Check mle_retvals.\",\n",
      "C:\\Users\\michelj8\\Anaconda3\\lib\\site-packages\\statsmodels\\tsa\\holtwinters.py:743: ConvergenceWarning: Optimization failed to converge. Check mle_retvals.\n",
      "  warn(\"Optimization failed to converge. Check mle_retvals.\",\n",
      "C:\\Users\\michelj8\\Anaconda3\\lib\\site-packages\\statsmodels\\tsa\\holtwinters.py:743: ConvergenceWarning: Optimization failed to converge. Check mle_retvals.\n",
      "  warn(\"Optimization failed to converge. Check mle_retvals.\",\n",
      "C:\\Users\\michelj8\\Anaconda3\\lib\\site-packages\\statsmodels\\tsa\\holtwinters.py:743: ConvergenceWarning: Optimization failed to converge. Check mle_retvals.\n",
      "  warn(\"Optimization failed to converge. Check mle_retvals.\",\n",
      "C:\\Users\\michelj8\\Anaconda3\\lib\\site-packages\\statsmodels\\tsa\\holtwinters.py:743: ConvergenceWarning: Optimization failed to converge. Check mle_retvals.\n",
      "  warn(\"Optimization failed to converge. Check mle_retvals.\",\n",
      "C:\\Users\\michelj8\\Anaconda3\\lib\\site-packages\\statsmodels\\tsa\\holtwinters.py:743: ConvergenceWarning: Optimization failed to converge. Check mle_retvals.\n",
      "  warn(\"Optimization failed to converge. Check mle_retvals.\",\n",
      "C:\\Users\\michelj8\\Anaconda3\\lib\\site-packages\\statsmodels\\tsa\\holtwinters.py:743: ConvergenceWarning: Optimization failed to converge. Check mle_retvals.\n",
      "  warn(\"Optimization failed to converge. Check mle_retvals.\",\n",
      "C:\\Users\\michelj8\\Anaconda3\\lib\\site-packages\\statsmodels\\tsa\\holtwinters.py:743: ConvergenceWarning: Optimization failed to converge. Check mle_retvals.\n",
      "  warn(\"Optimization failed to converge. Check mle_retvals.\",\n",
      "C:\\Users\\michelj8\\Anaconda3\\lib\\site-packages\\statsmodels\\tsa\\holtwinters.py:743: ConvergenceWarning: Optimization failed to converge. Check mle_retvals.\n",
      "  warn(\"Optimization failed to converge. Check mle_retvals.\",\n",
      "C:\\Users\\michelj8\\Anaconda3\\lib\\site-packages\\statsmodels\\tsa\\holtwinters.py:743: ConvergenceWarning: Optimization failed to converge. Check mle_retvals.\n",
      "  warn(\"Optimization failed to converge. Check mle_retvals.\",\n",
      "C:\\Users\\michelj8\\Anaconda3\\lib\\site-packages\\statsmodels\\tsa\\holtwinters.py:743: ConvergenceWarning: Optimization failed to converge. Check mle_retvals.\n",
      "  warn(\"Optimization failed to converge. Check mle_retvals.\",\n",
      "C:\\Users\\michelj8\\Anaconda3\\lib\\site-packages\\statsmodels\\tsa\\holtwinters.py:743: ConvergenceWarning: Optimization failed to converge. Check mle_retvals.\n",
      "  warn(\"Optimization failed to converge. Check mle_retvals.\",\n",
      "C:\\Users\\michelj8\\Anaconda3\\lib\\site-packages\\statsmodels\\tsa\\holtwinters.py:743: ConvergenceWarning: Optimization failed to converge. Check mle_retvals.\n",
      "  warn(\"Optimization failed to converge. Check mle_retvals.\",\n",
      "C:\\Users\\michelj8\\Anaconda3\\lib\\site-packages\\statsmodels\\tsa\\holtwinters.py:743: ConvergenceWarning: Optimization failed to converge. Check mle_retvals.\n",
      "  warn(\"Optimization failed to converge. Check mle_retvals.\",\n",
      "C:\\Users\\michelj8\\Anaconda3\\lib\\site-packages\\statsmodels\\tsa\\holtwinters.py:743: ConvergenceWarning: Optimization failed to converge. Check mle_retvals.\n",
      "  warn(\"Optimization failed to converge. Check mle_retvals.\",\n",
      "C:\\Users\\michelj8\\Anaconda3\\lib\\site-packages\\statsmodels\\tsa\\holtwinters.py:743: ConvergenceWarning: Optimization failed to converge. Check mle_retvals.\n",
      "  warn(\"Optimization failed to converge. Check mle_retvals.\",\n",
      "C:\\Users\\michelj8\\Anaconda3\\lib\\site-packages\\statsmodels\\tsa\\holtwinters.py:743: ConvergenceWarning: Optimization failed to converge. Check mle_retvals.\n",
      "  warn(\"Optimization failed to converge. Check mle_retvals.\",\n",
      "C:\\Users\\michelj8\\Anaconda3\\lib\\site-packages\\statsmodels\\tsa\\holtwinters.py:743: ConvergenceWarning: Optimization failed to converge. Check mle_retvals.\n",
      "  warn(\"Optimization failed to converge. Check mle_retvals.\",\n",
      "C:\\Users\\michelj8\\Anaconda3\\lib\\site-packages\\statsmodels\\tsa\\holtwinters.py:743: ConvergenceWarning: Optimization failed to converge. Check mle_retvals.\n",
      "  warn(\"Optimization failed to converge. Check mle_retvals.\",\n",
      "C:\\Users\\michelj8\\Anaconda3\\lib\\site-packages\\statsmodels\\tsa\\holtwinters.py:743: ConvergenceWarning: Optimization failed to converge. Check mle_retvals.\n",
      "  warn(\"Optimization failed to converge. Check mle_retvals.\",\n",
      "C:\\Users\\michelj8\\Anaconda3\\lib\\site-packages\\statsmodels\\tsa\\holtwinters.py:743: ConvergenceWarning: Optimization failed to converge. Check mle_retvals.\n",
      "  warn(\"Optimization failed to converge. Check mle_retvals.\",\n",
      "C:\\Users\\michelj8\\Anaconda3\\lib\\site-packages\\statsmodels\\tsa\\holtwinters.py:743: ConvergenceWarning: Optimization failed to converge. Check mle_retvals.\n",
      "  warn(\"Optimization failed to converge. Check mle_retvals.\",\n",
      "C:\\Users\\michelj8\\Anaconda3\\lib\\site-packages\\statsmodels\\tsa\\holtwinters.py:743: ConvergenceWarning: Optimization failed to converge. Check mle_retvals.\n",
      "  warn(\"Optimization failed to converge. Check mle_retvals.\",\n",
      "C:\\Users\\michelj8\\Anaconda3\\lib\\site-packages\\statsmodels\\tsa\\holtwinters.py:743: ConvergenceWarning: Optimization failed to converge. Check mle_retvals.\n",
      "  warn(\"Optimization failed to converge. Check mle_retvals.\",\n",
      "C:\\Users\\michelj8\\Anaconda3\\lib\\site-packages\\statsmodels\\tsa\\holtwinters.py:743: ConvergenceWarning: Optimization failed to converge. Check mle_retvals.\n",
      "  warn(\"Optimization failed to converge. Check mle_retvals.\",\n",
      "C:\\Users\\michelj8\\Anaconda3\\lib\\site-packages\\statsmodels\\tsa\\holtwinters.py:743: ConvergenceWarning: Optimization failed to converge. Check mle_retvals.\n",
      "  warn(\"Optimization failed to converge. Check mle_retvals.\",\n"
     ]
    },
    {
     "name": "stderr",
     "output_type": "stream",
     "text": [
      "C:\\Users\\michelj8\\Anaconda3\\lib\\site-packages\\statsmodels\\tsa\\holtwinters.py:743: ConvergenceWarning: Optimization failed to converge. Check mle_retvals.\n",
      "  warn(\"Optimization failed to converge. Check mle_retvals.\",\n",
      "C:\\Users\\michelj8\\Anaconda3\\lib\\site-packages\\statsmodels\\tsa\\holtwinters.py:743: ConvergenceWarning: Optimization failed to converge. Check mle_retvals.\n",
      "  warn(\"Optimization failed to converge. Check mle_retvals.\",\n",
      "C:\\Users\\michelj8\\Anaconda3\\lib\\site-packages\\statsmodels\\tsa\\holtwinters.py:743: ConvergenceWarning: Optimization failed to converge. Check mle_retvals.\n",
      "  warn(\"Optimization failed to converge. Check mle_retvals.\",\n",
      "C:\\Users\\michelj8\\Anaconda3\\lib\\site-packages\\statsmodels\\tsa\\holtwinters.py:743: ConvergenceWarning: Optimization failed to converge. Check mle_retvals.\n",
      "  warn(\"Optimization failed to converge. Check mle_retvals.\",\n",
      "C:\\Users\\michelj8\\Anaconda3\\lib\\site-packages\\statsmodels\\tsa\\holtwinters.py:743: ConvergenceWarning: Optimization failed to converge. Check mle_retvals.\n",
      "  warn(\"Optimization failed to converge. Check mle_retvals.\",\n",
      "C:\\Users\\michelj8\\Anaconda3\\lib\\site-packages\\statsmodels\\tsa\\holtwinters.py:743: ConvergenceWarning: Optimization failed to converge. Check mle_retvals.\n",
      "  warn(\"Optimization failed to converge. Check mle_retvals.\",\n",
      "C:\\Users\\michelj8\\Anaconda3\\lib\\site-packages\\statsmodels\\tsa\\holtwinters.py:743: ConvergenceWarning: Optimization failed to converge. Check mle_retvals.\n",
      "  warn(\"Optimization failed to converge. Check mle_retvals.\",\n",
      "C:\\Users\\michelj8\\Anaconda3\\lib\\site-packages\\statsmodels\\tsa\\holtwinters.py:743: ConvergenceWarning: Optimization failed to converge. Check mle_retvals.\n",
      "  warn(\"Optimization failed to converge. Check mle_retvals.\",\n",
      "C:\\Users\\michelj8\\Anaconda3\\lib\\site-packages\\statsmodels\\tsa\\holtwinters.py:743: ConvergenceWarning: Optimization failed to converge. Check mle_retvals.\n",
      "  warn(\"Optimization failed to converge. Check mle_retvals.\",\n",
      "C:\\Users\\michelj8\\Anaconda3\\lib\\site-packages\\statsmodels\\tsa\\holtwinters.py:743: ConvergenceWarning: Optimization failed to converge. Check mle_retvals.\n",
      "  warn(\"Optimization failed to converge. Check mle_retvals.\",\n",
      "C:\\Users\\michelj8\\Anaconda3\\lib\\site-packages\\statsmodels\\tsa\\holtwinters.py:743: ConvergenceWarning: Optimization failed to converge. Check mle_retvals.\n",
      "  warn(\"Optimization failed to converge. Check mle_retvals.\",\n",
      "C:\\Users\\michelj8\\Anaconda3\\lib\\site-packages\\statsmodels\\tsa\\holtwinters.py:743: ConvergenceWarning: Optimization failed to converge. Check mle_retvals.\n",
      "  warn(\"Optimization failed to converge. Check mle_retvals.\",\n",
      "C:\\Users\\michelj8\\Anaconda3\\lib\\site-packages\\statsmodels\\tsa\\holtwinters.py:743: ConvergenceWarning: Optimization failed to converge. Check mle_retvals.\n",
      "  warn(\"Optimization failed to converge. Check mle_retvals.\",\n",
      "C:\\Users\\michelj8\\Anaconda3\\lib\\site-packages\\statsmodels\\tsa\\holtwinters.py:743: ConvergenceWarning: Optimization failed to converge. Check mle_retvals.\n",
      "  warn(\"Optimization failed to converge. Check mle_retvals.\",\n",
      "C:\\Users\\michelj8\\Anaconda3\\lib\\site-packages\\statsmodels\\tsa\\holtwinters.py:743: ConvergenceWarning: Optimization failed to converge. Check mle_retvals.\n",
      "  warn(\"Optimization failed to converge. Check mle_retvals.\",\n",
      "C:\\Users\\michelj8\\Anaconda3\\lib\\site-packages\\statsmodels\\tsa\\holtwinters.py:743: ConvergenceWarning: Optimization failed to converge. Check mle_retvals.\n",
      "  warn(\"Optimization failed to converge. Check mle_retvals.\",\n",
      "C:\\Users\\michelj8\\Anaconda3\\lib\\site-packages\\statsmodels\\tsa\\holtwinters.py:743: ConvergenceWarning: Optimization failed to converge. Check mle_retvals.\n",
      "  warn(\"Optimization failed to converge. Check mle_retvals.\",\n",
      "C:\\Users\\michelj8\\Anaconda3\\lib\\site-packages\\statsmodels\\tsa\\holtwinters.py:743: ConvergenceWarning: Optimization failed to converge. Check mle_retvals.\n",
      "  warn(\"Optimization failed to converge. Check mle_retvals.\",\n",
      "C:\\Users\\michelj8\\Anaconda3\\lib\\site-packages\\statsmodels\\tsa\\holtwinters.py:743: ConvergenceWarning: Optimization failed to converge. Check mle_retvals.\n",
      "  warn(\"Optimization failed to converge. Check mle_retvals.\",\n",
      "C:\\Users\\michelj8\\Anaconda3\\lib\\site-packages\\statsmodels\\tsa\\holtwinters.py:743: ConvergenceWarning: Optimization failed to converge. Check mle_retvals.\n",
      "  warn(\"Optimization failed to converge. Check mle_retvals.\",\n",
      "C:\\Users\\michelj8\\Anaconda3\\lib\\site-packages\\statsmodels\\tsa\\holtwinters.py:743: ConvergenceWarning: Optimization failed to converge. Check mle_retvals.\n",
      "  warn(\"Optimization failed to converge. Check mle_retvals.\",\n",
      "C:\\Users\\michelj8\\Anaconda3\\lib\\site-packages\\statsmodels\\tsa\\holtwinters.py:743: ConvergenceWarning: Optimization failed to converge. Check mle_retvals.\n",
      "  warn(\"Optimization failed to converge. Check mle_retvals.\",\n",
      "C:\\Users\\michelj8\\Anaconda3\\lib\\site-packages\\statsmodels\\tsa\\holtwinters.py:743: ConvergenceWarning: Optimization failed to converge. Check mle_retvals.\n",
      "  warn(\"Optimization failed to converge. Check mle_retvals.\",\n",
      "C:\\Users\\michelj8\\Anaconda3\\lib\\site-packages\\statsmodels\\tsa\\holtwinters.py:743: ConvergenceWarning: Optimization failed to converge. Check mle_retvals.\n",
      "  warn(\"Optimization failed to converge. Check mle_retvals.\",\n",
      "C:\\Users\\michelj8\\Anaconda3\\lib\\site-packages\\statsmodels\\tsa\\holtwinters.py:743: ConvergenceWarning: Optimization failed to converge. Check mle_retvals.\n",
      "  warn(\"Optimization failed to converge. Check mle_retvals.\",\n",
      "C:\\Users\\michelj8\\Anaconda3\\lib\\site-packages\\statsmodels\\tsa\\holtwinters.py:743: ConvergenceWarning: Optimization failed to converge. Check mle_retvals.\n",
      "  warn(\"Optimization failed to converge. Check mle_retvals.\",\n",
      "C:\\Users\\michelj8\\Anaconda3\\lib\\site-packages\\statsmodels\\tsa\\holtwinters.py:743: ConvergenceWarning: Optimization failed to converge. Check mle_retvals.\n",
      "  warn(\"Optimization failed to converge. Check mle_retvals.\",\n",
      "C:\\Users\\michelj8\\Anaconda3\\lib\\site-packages\\statsmodels\\tsa\\holtwinters.py:743: ConvergenceWarning: Optimization failed to converge. Check mle_retvals.\n",
      "  warn(\"Optimization failed to converge. Check mle_retvals.\",\n",
      "C:\\Users\\michelj8\\Anaconda3\\lib\\site-packages\\statsmodels\\tsa\\holtwinters.py:743: ConvergenceWarning: Optimization failed to converge. Check mle_retvals.\n",
      "  warn(\"Optimization failed to converge. Check mle_retvals.\",\n",
      "C:\\Users\\michelj8\\Anaconda3\\lib\\site-packages\\statsmodels\\tsa\\holtwinters.py:743: ConvergenceWarning: Optimization failed to converge. Check mle_retvals.\n",
      "  warn(\"Optimization failed to converge. Check mle_retvals.\",\n",
      "C:\\Users\\michelj8\\Anaconda3\\lib\\site-packages\\statsmodels\\tsa\\holtwinters.py:743: ConvergenceWarning: Optimization failed to converge. Check mle_retvals.\n",
      "  warn(\"Optimization failed to converge. Check mle_retvals.\",\n",
      "C:\\Users\\michelj8\\Anaconda3\\lib\\site-packages\\statsmodels\\tsa\\holtwinters.py:743: ConvergenceWarning: Optimization failed to converge. Check mle_retvals.\n",
      "  warn(\"Optimization failed to converge. Check mle_retvals.\",\n",
      "C:\\Users\\michelj8\\Anaconda3\\lib\\site-packages\\statsmodels\\tsa\\holtwinters.py:743: ConvergenceWarning: Optimization failed to converge. Check mle_retvals.\n",
      "  warn(\"Optimization failed to converge. Check mle_retvals.\",\n",
      "C:\\Users\\michelj8\\Anaconda3\\lib\\site-packages\\statsmodels\\tsa\\holtwinters.py:743: ConvergenceWarning: Optimization failed to converge. Check mle_retvals.\n",
      "  warn(\"Optimization failed to converge. Check mle_retvals.\",\n",
      "C:\\Users\\michelj8\\Anaconda3\\lib\\site-packages\\statsmodels\\tsa\\holtwinters.py:743: ConvergenceWarning: Optimization failed to converge. Check mle_retvals.\n",
      "  warn(\"Optimization failed to converge. Check mle_retvals.\",\n",
      "C:\\Users\\michelj8\\Anaconda3\\lib\\site-packages\\statsmodels\\tsa\\holtwinters.py:743: ConvergenceWarning: Optimization failed to converge. Check mle_retvals.\n",
      "  warn(\"Optimization failed to converge. Check mle_retvals.\",\n",
      "C:\\Users\\michelj8\\Anaconda3\\lib\\site-packages\\statsmodels\\tsa\\holtwinters.py:743: ConvergenceWarning: Optimization failed to converge. Check mle_retvals.\n",
      "  warn(\"Optimization failed to converge. Check mle_retvals.\",\n",
      "C:\\Users\\michelj8\\Anaconda3\\lib\\site-packages\\statsmodels\\tsa\\holtwinters.py:743: ConvergenceWarning: Optimization failed to converge. Check mle_retvals.\n",
      "  warn(\"Optimization failed to converge. Check mle_retvals.\",\n",
      "C:\\Users\\michelj8\\Anaconda3\\lib\\site-packages\\statsmodels\\tsa\\holtwinters.py:743: ConvergenceWarning: Optimization failed to converge. Check mle_retvals.\n",
      "  warn(\"Optimization failed to converge. Check mle_retvals.\",\n",
      "C:\\Users\\michelj8\\Anaconda3\\lib\\site-packages\\statsmodels\\tsa\\holtwinters.py:743: ConvergenceWarning: Optimization failed to converge. Check mle_retvals.\n",
      "  warn(\"Optimization failed to converge. Check mle_retvals.\",\n",
      "C:\\Users\\michelj8\\Anaconda3\\lib\\site-packages\\statsmodels\\tsa\\holtwinters.py:743: ConvergenceWarning: Optimization failed to converge. Check mle_retvals.\n",
      "  warn(\"Optimization failed to converge. Check mle_retvals.\",\n",
      "C:\\Users\\michelj8\\Anaconda3\\lib\\site-packages\\statsmodels\\tsa\\holtwinters.py:743: ConvergenceWarning: Optimization failed to converge. Check mle_retvals.\n",
      "  warn(\"Optimization failed to converge. Check mle_retvals.\",\n"
     ]
    },
    {
     "name": "stderr",
     "output_type": "stream",
     "text": [
      "C:\\Users\\michelj8\\Anaconda3\\lib\\site-packages\\statsmodels\\tsa\\holtwinters.py:743: ConvergenceWarning: Optimization failed to converge. Check mle_retvals.\n",
      "  warn(\"Optimization failed to converge. Check mle_retvals.\",\n",
      "C:\\Users\\michelj8\\Anaconda3\\lib\\site-packages\\statsmodels\\tsa\\holtwinters.py:743: ConvergenceWarning: Optimization failed to converge. Check mle_retvals.\n",
      "  warn(\"Optimization failed to converge. Check mle_retvals.\",\n",
      "C:\\Users\\michelj8\\Anaconda3\\lib\\site-packages\\statsmodels\\tsa\\holtwinters.py:743: ConvergenceWarning: Optimization failed to converge. Check mle_retvals.\n",
      "  warn(\"Optimization failed to converge. Check mle_retvals.\",\n",
      "C:\\Users\\michelj8\\Anaconda3\\lib\\site-packages\\statsmodels\\tsa\\holtwinters.py:743: ConvergenceWarning: Optimization failed to converge. Check mle_retvals.\n",
      "  warn(\"Optimization failed to converge. Check mle_retvals.\",\n",
      "C:\\Users\\michelj8\\Anaconda3\\lib\\site-packages\\statsmodels\\tsa\\holtwinters.py:743: ConvergenceWarning: Optimization failed to converge. Check mle_retvals.\n",
      "  warn(\"Optimization failed to converge. Check mle_retvals.\",\n",
      "C:\\Users\\michelj8\\Anaconda3\\lib\\site-packages\\statsmodels\\tsa\\holtwinters.py:743: ConvergenceWarning: Optimization failed to converge. Check mle_retvals.\n",
      "  warn(\"Optimization failed to converge. Check mle_retvals.\",\n",
      "C:\\Users\\michelj8\\Anaconda3\\lib\\site-packages\\statsmodels\\tsa\\holtwinters.py:743: ConvergenceWarning: Optimization failed to converge. Check mle_retvals.\n",
      "  warn(\"Optimization failed to converge. Check mle_retvals.\",\n",
      "C:\\Users\\michelj8\\Anaconda3\\lib\\site-packages\\statsmodels\\tsa\\holtwinters.py:743: ConvergenceWarning: Optimization failed to converge. Check mle_retvals.\n",
      "  warn(\"Optimization failed to converge. Check mle_retvals.\",\n",
      "C:\\Users\\michelj8\\Anaconda3\\lib\\site-packages\\statsmodels\\tsa\\holtwinters.py:743: ConvergenceWarning: Optimization failed to converge. Check mle_retvals.\n",
      "  warn(\"Optimization failed to converge. Check mle_retvals.\",\n",
      "C:\\Users\\michelj8\\Anaconda3\\lib\\site-packages\\statsmodels\\tsa\\holtwinters.py:743: ConvergenceWarning: Optimization failed to converge. Check mle_retvals.\n",
      "  warn(\"Optimization failed to converge. Check mle_retvals.\",\n",
      "C:\\Users\\michelj8\\Anaconda3\\lib\\site-packages\\statsmodels\\tsa\\holtwinters.py:743: ConvergenceWarning: Optimization failed to converge. Check mle_retvals.\n",
      "  warn(\"Optimization failed to converge. Check mle_retvals.\",\n",
      "C:\\Users\\michelj8\\Anaconda3\\lib\\site-packages\\statsmodels\\tsa\\holtwinters.py:743: ConvergenceWarning: Optimization failed to converge. Check mle_retvals.\n",
      "  warn(\"Optimization failed to converge. Check mle_retvals.\",\n",
      "C:\\Users\\michelj8\\Anaconda3\\lib\\site-packages\\statsmodels\\tsa\\holtwinters.py:743: ConvergenceWarning: Optimization failed to converge. Check mle_retvals.\n",
      "  warn(\"Optimization failed to converge. Check mle_retvals.\",\n",
      "C:\\Users\\michelj8\\Anaconda3\\lib\\site-packages\\statsmodels\\tsa\\holtwinters.py:743: ConvergenceWarning: Optimization failed to converge. Check mle_retvals.\n",
      "  warn(\"Optimization failed to converge. Check mle_retvals.\",\n",
      "C:\\Users\\michelj8\\Anaconda3\\lib\\site-packages\\statsmodels\\tsa\\holtwinters.py:743: ConvergenceWarning: Optimization failed to converge. Check mle_retvals.\n",
      "  warn(\"Optimization failed to converge. Check mle_retvals.\",\n",
      "C:\\Users\\michelj8\\Anaconda3\\lib\\site-packages\\statsmodels\\tsa\\holtwinters.py:743: ConvergenceWarning: Optimization failed to converge. Check mle_retvals.\n",
      "  warn(\"Optimization failed to converge. Check mle_retvals.\",\n",
      "C:\\Users\\michelj8\\Anaconda3\\lib\\site-packages\\statsmodels\\tsa\\holtwinters.py:743: ConvergenceWarning: Optimization failed to converge. Check mle_retvals.\n",
      "  warn(\"Optimization failed to converge. Check mle_retvals.\",\n",
      "C:\\Users\\michelj8\\Anaconda3\\lib\\site-packages\\statsmodels\\tsa\\holtwinters.py:743: ConvergenceWarning: Optimization failed to converge. Check mle_retvals.\n",
      "  warn(\"Optimization failed to converge. Check mle_retvals.\",\n",
      "C:\\Users\\michelj8\\Anaconda3\\lib\\site-packages\\statsmodels\\tsa\\holtwinters.py:743: ConvergenceWarning: Optimization failed to converge. Check mle_retvals.\n",
      "  warn(\"Optimization failed to converge. Check mle_retvals.\",\n",
      "C:\\Users\\michelj8\\Anaconda3\\lib\\site-packages\\statsmodels\\tsa\\holtwinters.py:743: ConvergenceWarning: Optimization failed to converge. Check mle_retvals.\n",
      "  warn(\"Optimization failed to converge. Check mle_retvals.\",\n",
      "C:\\Users\\michelj8\\Anaconda3\\lib\\site-packages\\statsmodels\\tsa\\holtwinters.py:743: ConvergenceWarning: Optimization failed to converge. Check mle_retvals.\n",
      "  warn(\"Optimization failed to converge. Check mle_retvals.\",\n",
      "C:\\Users\\michelj8\\Anaconda3\\lib\\site-packages\\statsmodels\\tsa\\holtwinters.py:743: ConvergenceWarning: Optimization failed to converge. Check mle_retvals.\n",
      "  warn(\"Optimization failed to converge. Check mle_retvals.\",\n"
     ]
    }
   ],
   "source": [
    "holt_errors = []\n",
    "\n",
    "for state in states:\n",
    "    for year in years[10:]:\n",
    "        year_index = np.where(year == years)[0][0]\n",
    "        last_year = years[year_index - 1]\n",
    "        \n",
    "        prediction = Holt(model_data.loc[:last_year][state].values).fit(optimized = True).predict()[0]\n",
    "        holt_errors.append(  model_data.loc[year,state] - prediction )"
   ]
  },
  {
   "cell_type": "code",
   "execution_count": 45,
   "metadata": {},
   "outputs": [
    {
     "data": {
      "text/plain": [
       "0    0.028976\n",
       "dtype: float64"
      ]
     },
     "execution_count": 45,
     "metadata": {},
     "output_type": "execute_result"
    }
   ],
   "source": [
    "np.square(pd.DataFrame(holt_errors)).mean()"
   ]
  },
  {
   "cell_type": "markdown",
   "metadata": {},
   "source": [
    "# Hierarchial"
   ]
  },
  {
   "cell_type": "code",
   "execution_count": 46,
   "metadata": {},
   "outputs": [
    {
     "name": "stderr",
     "output_type": "stream",
     "text": [
      "C:\\Users\\michelj8\\Anaconda3\\lib\\site-packages\\statsmodels\\tsa\\holtwinters.py:743: ConvergenceWarning: Optimization failed to converge. Check mle_retvals.\n",
      "  warn(\"Optimization failed to converge. Check mle_retvals.\",\n"
     ]
    }
   ],
   "source": [
    "top_down_errors = []\n",
    "\n",
    "agg_ts = model_data[states].sum(axis = 1)\n",
    "\n",
    "for year in years[10:]:\n",
    "    year_index = np.where(year == years)[0][0]\n",
    "    last_year = years[year_index - 1]\n",
    "    \n",
    "    state_prop = (model_data.loc[:last_year,states].sum())/(model_data.loc[:last_year,states].sum().sum())\n",
    "    actuals = model_data.loc[year,states]\n",
    "\n",
    "    prediction = Holt(agg_ts.loc[:last_year].values).fit(optimized = True).predict()[0]\n",
    "    year_errors = (actuals - (state_prop * prediction)).values\n",
    "    top_down_errors.extend(year_errors)"
   ]
  },
  {
   "cell_type": "code",
   "execution_count": 47,
   "metadata": {},
   "outputs": [
    {
     "data": {
      "text/plain": [
       "0    0.01878\n",
       "dtype: float64"
      ]
     },
     "execution_count": 47,
     "metadata": {},
     "output_type": "execute_result"
    }
   ],
   "source": [
    "np.square(pd.DataFrame(top_down_errors)).mean()"
   ]
  },
  {
   "cell_type": "markdown",
   "metadata": {},
   "source": [
    "# VAR"
   ]
  },
  {
   "cell_type": "code",
   "execution_count": 65,
   "metadata": {},
   "outputs": [
    {
     "name": "stderr",
     "output_type": "stream",
     "text": [
      "C:\\Users\\michelj8\\Anaconda3\\lib\\site-packages\\statsmodels\\base\\wrapper.py:36: FutureWarning: y is a deprecated alias for endog, will be removed in version 0.11.0\n",
      "  obj = getattr(results, attr)\n"
     ]
    }
   ],
   "source": [
    "var_errors = []\n",
    "\n",
    "for year in years[10:]:\n",
    "    year_index = np.where(year == years)[0][0]\n",
    "    last_year = years[year_index - 1]\n",
    "    model = VAR(model_data.loc[:last_year][states].values).fit()\n",
    "    preds = model.forecast(model.y, steps=1)[0]\n",
    "    \n",
    "    var_errors.extend(model_data.loc[year,states].values  - preds)"
   ]
  },
  {
   "cell_type": "code",
   "execution_count": 66,
   "metadata": {},
   "outputs": [
    {
     "data": {
      "text/plain": [
       "0    0.022909\n",
       "dtype: float64"
      ]
     },
     "execution_count": 66,
     "metadata": {},
     "output_type": "execute_result"
    }
   ],
   "source": [
    "np.square(pd.DataFrame(var_errors)).mean()"
   ]
  },
  {
   "cell_type": "markdown",
   "metadata": {},
   "source": [
    "# Spatial Exp Smooth"
   ]
  },
  {
   "cell_type": "code",
   "execution_count": 50,
   "metadata": {},
   "outputs": [
    {
     "ename": "AttributeError",
     "evalue": "'numpy.ndarray' object has no attribute 'set_index'",
     "output_type": "error",
     "traceback": [
      "\u001b[1;31m---------------------------------------------------------------------------\u001b[0m",
      "\u001b[1;31mAttributeError\u001b[0m                            Traceback (most recent call last)",
      "\u001b[1;32m<ipython-input-50-64476f469900>\u001b[0m in \u001b[0;36m<module>\u001b[1;34m\u001b[0m\n\u001b[1;32m----> 1\u001b[1;33m \u001b[0mweight_matrix\u001b[0m \u001b[1;33m=\u001b[0m \u001b[0mweight_matrix\u001b[0m\u001b[1;33m.\u001b[0m\u001b[0mset_index\u001b[0m\u001b[1;33m(\u001b[0m\u001b[1;34m'W_Matrix'\u001b[0m\u001b[1;33m)\u001b[0m\u001b[1;33m.\u001b[0m\u001b[0mvalues\u001b[0m\u001b[1;33m\u001b[0m\u001b[1;33m\u001b[0m\u001b[0m\n\u001b[0m",
      "\u001b[1;31mAttributeError\u001b[0m: 'numpy.ndarray' object has no attribute 'set_index'"
     ]
    }
   ],
   "source": [
    "weight_matrix = weight_matrix.set_index('W_Matrix').values"
   ]
  },
  {
   "cell_type": "code",
   "execution_count": 62,
   "metadata": {},
   "outputs": [
    {
     "name": "stdout",
     "output_type": "stream",
     "text": [
      "0.07142857142857142 0.5714285714285714\n"
     ]
    }
   ],
   "source": [
    "min_obj = 100000\n",
    "min_alpha = 0.0\n",
    "min_phi = 0.0\n",
    "beta = 0.0 \n",
    "\n",
    "for alpha in np.linspace(0,1,15):\n",
    "    for phi in np.linspace(0,1,15):\n",
    "        id_matrix = diag_to_matrix(len(states)*[1])\n",
    "        n_phi = (1-phi)*id_matrix + phi*weight_matrix\n",
    "\n",
    "        spatial_ses_errors = []\n",
    "\n",
    "        for year in years:\n",
    "            year_index = np.where(year==years)[0][0]\n",
    "\n",
    "            if year_index == 0:\n",
    "                level = model_data.loc[year,states]\n",
    "                trend = np.array(len(states)*[0])\n",
    "\n",
    "            else:\n",
    "                old_level = level\n",
    "                level = alpha*model_data.loc[year,states] + (1-alpha)*np.dot(n_phi,level+trend)\n",
    "                trend = beta*(level - old_level) + (1-beta)*trend\n",
    "\n",
    "            if (year_index > 9) & ( (year_index +1) < len(years)):\n",
    "                next_year = years[year_index+1]\n",
    "                spatial_ses_errors.append( (model_data.loc[next_year,states] - level).values[0] )\n",
    "                \n",
    "        obj = np.square(pd.DataFrame(spatial_ses_errors)).mean()[0]\n",
    "        if obj < min_obj:\n",
    "            min_obj, min_alpha, min_phi = obj, alpha, phi\n",
    "\n",
    "print(min_alpha, min_phi)"
   ]
  },
  {
   "cell_type": "code",
   "execution_count": 63,
   "metadata": {},
   "outputs": [],
   "source": [
    "alpha = 0.07142857142857142 \n",
    "phi = 0.5714285714285714\n",
    "beta = 0.0\n",
    "\n",
    "id_matrix = diag_to_matrix(len(states)*[1])\n",
    "n_phi = (1-phi)*id_matrix + phi*weight_matrix\n",
    "\n",
    "spatial_ses_errors = []\n",
    "\n",
    "for year in years:\n",
    "    year_index = np.where(year==years)[0][0]\n",
    "    \n",
    "    if year_index == 0:\n",
    "        level = model_data.loc[year,states]\n",
    "        trend = np.array(len(states)*[0])\n",
    "        \n",
    "    else:\n",
    "        old_level = level\n",
    "        level = alpha*model_data.loc[year,states] + (1-alpha)*np.dot(n_phi,level+trend)\n",
    "        trend = beta*(level - old_level) + (1-beta)*trend\n",
    "        \n",
    "    if (year_index > 9) & ( (year_index +1) < len(years)):\n",
    "        next_year = years[year_index+1]\n",
    "        spatial_ses_errors.append( (model_data.loc[next_year,states] - level).values[0] )"
   ]
  },
  {
   "cell_type": "code",
   "execution_count": 64,
   "metadata": {},
   "outputs": [
    {
     "data": {
      "text/plain": [
       "0    0.014903\n",
       "dtype: float64"
      ]
     },
     "execution_count": 64,
     "metadata": {},
     "output_type": "execute_result"
    }
   ],
   "source": [
    "np.square(pd.DataFrame(spatial_ses_errors)).mean()"
   ]
  },
  {
   "cell_type": "code",
   "execution_count": 53,
   "metadata": {},
   "outputs": [
    {
     "data": {
      "text/plain": [
       "0    0.014469\n",
       "dtype: float64"
      ]
     },
     "execution_count": 53,
     "metadata": {},
     "output_type": "execute_result"
    }
   ],
   "source": [
    "spatial_ses_errors = []\n",
    "alpha = diag_to_matrix([0,.17,.1,.1,.26,.3])\n",
    "one_minus_alpha = diag_to_matrix(1-np.array([0,.17,.1,.1,.26,.3]))\n",
    "# alpha = diag_to_matrix(len(states)*[.05])\n",
    "# one_minus_alpha = diag_to_matrix(len(states)*[.95])\n",
    "\n",
    "phi = 0.35\n",
    "\n",
    "\n",
    "id_matrix = diag_to_matrix(len(states)*[1])\n",
    "n_phi = (1-phi)*id_matrix + phi*weight_matrix\n",
    "\n",
    "for year in years:\n",
    "    year_index = np.where(year==years)[0][0]\n",
    "    \n",
    "    if year_index == 0:\n",
    "        level = model_data.loc[year,states]\n",
    "        trend = np.array(len(states)*[0])\n",
    "        \n",
    "    else:\n",
    "        old_level = level\n",
    "        level = np.dot(alpha,model_data.loc[year,states]) + (np.dot(one_minus_alpha, np.dot(n_phi,level)))\n",
    "        trend = np.dot(alpha,(level - old_level)) + np.dot(one_minus_alpha,trend)\n",
    "        \n",
    "    if (year_index > 9) & ( (year_index +1) < len(years)):\n",
    "        next_year = years[year_index+1]\n",
    "        spatial_ses_errors.append( (model_data.loc[next_year,states] - level).values[0] )\n",
    "        \n",
    "np.square(pd.DataFrame(spatial_ses_errors)).mean()"
   ]
  },
  {
   "cell_type": "markdown",
   "metadata": {},
   "source": [
    "# SAR Based Top Down"
   ]
  },
  {
   "cell_type": "code",
   "execution_count": 54,
   "metadata": {},
   "outputs": [
    {
     "name": "stderr",
     "output_type": "stream",
     "text": [
      "C:\\Users\\michelj8\\Anaconda3\\lib\\site-packages\\statsmodels\\tsa\\holtwinters.py:743: ConvergenceWarning: Optimization failed to converge. Check mle_retvals.\n",
      "  warn(\"Optimization failed to converge. Check mle_retvals.\",\n"
     ]
    }
   ],
   "source": [
    "phi = .2\n",
    "sar_td_errors = []\n",
    "\n",
    "agg_ts = model_data[states].sum(axis = 1)\n",
    "\n",
    "for year in years[10:]:\n",
    "    year_index = np.where(year==years)[0][0]\n",
    "    last_year = years[year_index - 1]\n",
    "    \n",
    "    actuals = model_data.loc[year,states]\n",
    "    old_means = model_data.loc[:last_year,states].mean().values\n",
    "\n",
    "    prediction = Holt(agg_ts.loc[:last_year].values).fit(optimized = True).predict()[0]\n",
    "    spatial_preds = spatial_spillover(old_means, weight_matrix, phi, prediction)\n",
    "    \n",
    "    sar_td_errors.extend((actuals - spatial_preds).values)"
   ]
  },
  {
   "cell_type": "code",
   "execution_count": 55,
   "metadata": {},
   "outputs": [
    {
     "data": {
      "text/plain": [
       "0    0.018781\n",
       "dtype: float64"
      ]
     },
     "execution_count": 55,
     "metadata": {},
     "output_type": "execute_result"
    }
   ],
   "source": [
    "np.square(pd.DataFrame(sar_td_errors)).mean()"
   ]
  },
  {
   "cell_type": "markdown",
   "metadata": {},
   "source": [
    "## Appendix: How well is agg_ts forecasted?"
   ]
  },
  {
   "cell_type": "code",
   "execution_count": 58,
   "metadata": {},
   "outputs": [
    {
     "name": "stderr",
     "output_type": "stream",
     "text": [
      "C:\\Users\\michelj8\\Anaconda3\\lib\\site-packages\\statsmodels\\tsa\\holtwinters.py:731: RuntimeWarning: invalid value encountered in greater_equal\n",
      "  loc = initial_p >= ub\n",
      "C:\\Users\\michelj8\\Anaconda3\\lib\\site-packages\\statsmodels\\tsa\\holtwinters.py:743: ConvergenceWarning: Optimization failed to converge. Check mle_retvals.\n",
      "  warn(\"Optimization failed to converge. Check mle_retvals.\",\n"
     ]
    },
    {
     "data": {
      "text/plain": [
       "0    0.035895\n",
       "dtype: float64"
      ]
     },
     "execution_count": 58,
     "metadata": {},
     "output_type": "execute_result"
    }
   ],
   "source": [
    "agg_errors = []\n",
    "agg_ts = model_data[states].sum(axis = 1)\n",
    "\n",
    "for year in years[10:]:\n",
    "    year_index = np.where(year==years)[0][0]\n",
    "    last_year = years[year_index - 1]\n",
    "    \n",
    "    actual = model_data.loc[year,states].sum()\n",
    "\n",
    "    prediction = Holt(agg_ts.loc[:last_year].values).fit(optimized = True).predict()[0]\n",
    "    agg_errors.append(actual - prediction)\n",
    "    \n",
    "np.square(pd.DataFrame(agg_errors)).mean()/6.0"
   ]
  },
  {
   "cell_type": "code",
   "execution_count": 57,
   "metadata": {},
   "outputs": [
    {
     "data": {
      "text/plain": [
       "<matplotlib.axes._subplots.AxesSubplot at 0x118d0e8>"
      ]
     },
     "execution_count": 57,
     "metadata": {},
     "output_type": "execute_result"
    },
    {
     "data": {
      "image/png": "[encoded data removed]",
      "text/plain": [
       "<Figure size 432x288 with 1 Axes>"
      ]
     },
     "metadata": {
      "needs_background": "light"
     },
     "output_type": "display_data"
    }
   ],
   "source": [
    "model_data[states].plot()"
   ]
  },
  {
   "cell_type": "code",
   "execution_count": null,
   "metadata": {},
   "outputs": [],
   "source": []
  }
 ],
 "metadata": {
  "kernelspec": {
   "display_name": "Python 3",
   "language": "python",
   "name": "python3"
  },
  "language_info": {
   "codemirror_mode": {
    "name": "ipython",
    "version": 3
   },
   "file_extension": ".py",
   "mimetype": "text/x-python",
   "name": "python",
   "nbconvert_exporter": "python",
   "pygments_lexer": "ipython3",
   "version": "3.8.3"
  }
 },
 "nbformat": 4,
 "nbformat_minor": 4
}
