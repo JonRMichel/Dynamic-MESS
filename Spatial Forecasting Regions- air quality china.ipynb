{
 "cells": [
  {
   "cell_type": "code",
   "execution_count": 1,
   "metadata": {},
   "outputs": [],
   "source": [
    "import numpy as np\n",
    "import pandas as pd\n",
    "import matplotlib.pyplot as plt\n",
    "from statsmodels.tsa.api import VAR"
   ]
  },
  {
   "cell_type": "code",
   "execution_count": 2,
   "metadata": {},
   "outputs": [],
   "source": [
    "def dim_matrix(matrix):\n",
    "    return len(matrix),len(matrix[0])\n",
    "\n",
    "def diag_to_matrix(array):\n",
    "    length = len(array)\n",
    "    matrix = np.zeros([length,length])\n",
    "\n",
    "    for row in range(0, length):\n",
    "        matrix[row][row] = array[row]\n",
    "\n",
    "    return matrix"
   ]
  },
  {
   "cell_type": "code",
   "execution_count": 3,
   "metadata": {},
   "outputs": [
    {
     "data": {
      "text/html": [
       "<div>\n",
       "<style scoped>\n",
       "    .dataframe tbody tr th:only-of-type {\n",
       "        vertical-align: middle;\n",
       "    }\n",
       "\n",
       "    .dataframe tbody tr th {\n",
       "        vertical-align: top;\n",
       "    }\n",
       "\n",
       "    .dataframe thead th {\n",
       "        text-align: right;\n",
       "    }\n",
       "</style>\n",
       "<table border=\"1\" class=\"dataframe\">\n",
       "  <thead>\n",
       "    <tr style=\"text-align: right;\">\n",
       "      <th></th>\n",
       "      <th>No</th>\n",
       "      <th>year</th>\n",
       "      <th>month</th>\n",
       "      <th>day</th>\n",
       "      <th>hour</th>\n",
       "      <th>season</th>\n",
       "      <th>PM_Dongsi</th>\n",
       "      <th>PM_Dongsihuan</th>\n",
       "      <th>PM_Nongzhanguan</th>\n",
       "      <th>PM_US Post</th>\n",
       "      <th>DEWP</th>\n",
       "      <th>HUMI</th>\n",
       "      <th>PRES</th>\n",
       "      <th>TEMP</th>\n",
       "      <th>cbwd</th>\n",
       "      <th>Iws</th>\n",
       "      <th>precipitation</th>\n",
       "      <th>Iprec</th>\n",
       "    </tr>\n",
       "  </thead>\n",
       "  <tbody>\n",
       "    <tr>\n",
       "      <th>0</th>\n",
       "      <td>1</td>\n",
       "      <td>2010</td>\n",
       "      <td>1</td>\n",
       "      <td>1</td>\n",
       "      <td>0</td>\n",
       "      <td>4</td>\n",
       "      <td>NaN</td>\n",
       "      <td>NaN</td>\n",
       "      <td>NaN</td>\n",
       "      <td>NaN</td>\n",
       "      <td>-21.0</td>\n",
       "      <td>43.0</td>\n",
       "      <td>1021.0</td>\n",
       "      <td>-11.0</td>\n",
       "      <td>NW</td>\n",
       "      <td>1.79</td>\n",
       "      <td>0.0</td>\n",
       "      <td>0.0</td>\n",
       "    </tr>\n",
       "    <tr>\n",
       "      <th>1</th>\n",
       "      <td>2</td>\n",
       "      <td>2010</td>\n",
       "      <td>1</td>\n",
       "      <td>1</td>\n",
       "      <td>1</td>\n",
       "      <td>4</td>\n",
       "      <td>NaN</td>\n",
       "      <td>NaN</td>\n",
       "      <td>NaN</td>\n",
       "      <td>NaN</td>\n",
       "      <td>-21.0</td>\n",
       "      <td>47.0</td>\n",
       "      <td>1020.0</td>\n",
       "      <td>-12.0</td>\n",
       "      <td>NW</td>\n",
       "      <td>4.92</td>\n",
       "      <td>0.0</td>\n",
       "      <td>0.0</td>\n",
       "    </tr>\n",
       "    <tr>\n",
       "      <th>2</th>\n",
       "      <td>3</td>\n",
       "      <td>2010</td>\n",
       "      <td>1</td>\n",
       "      <td>1</td>\n",
       "      <td>2</td>\n",
       "      <td>4</td>\n",
       "      <td>NaN</td>\n",
       "      <td>NaN</td>\n",
       "      <td>NaN</td>\n",
       "      <td>NaN</td>\n",
       "      <td>-21.0</td>\n",
       "      <td>43.0</td>\n",
       "      <td>1019.0</td>\n",
       "      <td>-11.0</td>\n",
       "      <td>NW</td>\n",
       "      <td>6.71</td>\n",
       "      <td>0.0</td>\n",
       "      <td>0.0</td>\n",
       "    </tr>\n",
       "    <tr>\n",
       "      <th>3</th>\n",
       "      <td>4</td>\n",
       "      <td>2010</td>\n",
       "      <td>1</td>\n",
       "      <td>1</td>\n",
       "      <td>3</td>\n",
       "      <td>4</td>\n",
       "      <td>NaN</td>\n",
       "      <td>NaN</td>\n",
       "      <td>NaN</td>\n",
       "      <td>NaN</td>\n",
       "      <td>-21.0</td>\n",
       "      <td>55.0</td>\n",
       "      <td>1019.0</td>\n",
       "      <td>-14.0</td>\n",
       "      <td>NW</td>\n",
       "      <td>9.84</td>\n",
       "      <td>0.0</td>\n",
       "      <td>0.0</td>\n",
       "    </tr>\n",
       "    <tr>\n",
       "      <th>4</th>\n",
       "      <td>5</td>\n",
       "      <td>2010</td>\n",
       "      <td>1</td>\n",
       "      <td>1</td>\n",
       "      <td>4</td>\n",
       "      <td>4</td>\n",
       "      <td>NaN</td>\n",
       "      <td>NaN</td>\n",
       "      <td>NaN</td>\n",
       "      <td>NaN</td>\n",
       "      <td>-20.0</td>\n",
       "      <td>51.0</td>\n",
       "      <td>1018.0</td>\n",
       "      <td>-12.0</td>\n",
       "      <td>NW</td>\n",
       "      <td>12.97</td>\n",
       "      <td>0.0</td>\n",
       "      <td>0.0</td>\n",
       "    </tr>\n",
       "  </tbody>\n",
       "</table>\n",
       "</div>"
      ],
      "text/plain": [
       "   No  year  month  day  hour  season  PM_Dongsi  PM_Dongsihuan  \\\n",
       "0   1  2010      1    1     0       4        NaN            NaN   \n",
       "1   2  2010      1    1     1       4        NaN            NaN   \n",
       "2   3  2010      1    1     2       4        NaN            NaN   \n",
       "3   4  2010      1    1     3       4        NaN            NaN   \n",
       "4   5  2010      1    1     4       4        NaN            NaN   \n",
       "\n",
       "   PM_Nongzhanguan  PM_US Post  DEWP  HUMI    PRES  TEMP cbwd    Iws  \\\n",
       "0              NaN         NaN -21.0  43.0  1021.0 -11.0   NW   1.79   \n",
       "1              NaN         NaN -21.0  47.0  1020.0 -12.0   NW   4.92   \n",
       "2              NaN         NaN -21.0  43.0  1019.0 -11.0   NW   6.71   \n",
       "3              NaN         NaN -21.0  55.0  1019.0 -14.0   NW   9.84   \n",
       "4              NaN         NaN -20.0  51.0  1018.0 -12.0   NW  12.97   \n",
       "\n",
       "   precipitation  Iprec  \n",
       "0            0.0    0.0  \n",
       "1            0.0    0.0  \n",
       "2            0.0    0.0  \n",
       "3            0.0    0.0  \n",
       "4            0.0    0.0  "
      ]
     },
     "execution_count": 3,
     "metadata": {},
     "output_type": "execute_result"
    }
   ],
   "source": [
    "data  = pd.read_excel( \"C:/Users/michelj8/Documents/GitHub/Dynamic-MESS/china_air_quality.xlsx\")\n",
    "# region_names = ['New England', 'Mideast', 'Great Lakes', 'Plains', 'Southeast', 'Southwest', 'Rocky Mountain', 'Far West']\n",
    "\n",
    "data.head()"
   ]
  },
  {
   "cell_type": "code",
   "execution_count": null,
   "metadata": {},
   "outputs": [],
   "source": [
    "data = data[['year','month','day','hour','season',]]"
   ]
  },
  {
   "cell_type": "code",
   "execution_count": 4,
   "metadata": {},
   "outputs": [
    {
     "data": {
      "text/plain": [
       "Index(['No', 'year', 'month', 'day', 'hour', 'season', 'PM_Dongsi',\n",
       "       'PM_Dongsihuan', 'PM_Nongzhanguan', 'PM_US Post', 'DEWP', 'HUMI',\n",
       "       'PRES', 'TEMP', 'cbwd', 'Iws', 'precipitation', 'Iprec'],\n",
       "      dtype='object')"
      ]
     },
     "execution_count": 4,
     "metadata": {},
     "output_type": "execute_result"
    }
   ],
   "source": [
    "data.columns"
   ]
  },
  {
   "cell_type": "code",
   "execution_count": null,
   "metadata": {},
   "outputs": [],
   "source": []
  },
  {
   "cell_type": "code",
   "execution_count": null,
   "metadata": {},
   "outputs": [],
   "source": []
  },
  {
   "cell_type": "code",
   "execution_count": 4,
   "metadata": {},
   "outputs": [
    {
     "data": {
      "text/html": [
       "<div>\n",
       "<style scoped>\n",
       "    .dataframe tbody tr th:only-of-type {\n",
       "        vertical-align: middle;\n",
       "    }\n",
       "\n",
       "    .dataframe tbody tr th {\n",
       "        vertical-align: top;\n",
       "    }\n",
       "\n",
       "    .dataframe thead th {\n",
       "        text-align: right;\n",
       "    }\n",
       "</style>\n",
       "<table border=\"1\" class=\"dataframe\">\n",
       "  <thead>\n",
       "    <tr style=\"text-align: right;\">\n",
       "      <th></th>\n",
       "      <th>1998</th>\n",
       "      <th>1999</th>\n",
       "      <th>2000</th>\n",
       "      <th>2001</th>\n",
       "      <th>2002</th>\n",
       "      <th>2003</th>\n",
       "      <th>2004</th>\n",
       "      <th>2005</th>\n",
       "      <th>2006</th>\n",
       "      <th>2007</th>\n",
       "      <th>...</th>\n",
       "      <th>2009</th>\n",
       "      <th>2010</th>\n",
       "      <th>2011</th>\n",
       "      <th>2012</th>\n",
       "      <th>2013</th>\n",
       "      <th>2014</th>\n",
       "      <th>2015</th>\n",
       "      <th>2016</th>\n",
       "      <th>2017</th>\n",
       "      <th>2018</th>\n",
       "    </tr>\n",
       "    <tr>\n",
       "      <th>GeoName</th>\n",
       "      <th></th>\n",
       "      <th></th>\n",
       "      <th></th>\n",
       "      <th></th>\n",
       "      <th></th>\n",
       "      <th></th>\n",
       "      <th></th>\n",
       "      <th></th>\n",
       "      <th></th>\n",
       "      <th></th>\n",
       "      <th></th>\n",
       "      <th></th>\n",
       "      <th></th>\n",
       "      <th></th>\n",
       "      <th></th>\n",
       "      <th></th>\n",
       "      <th></th>\n",
       "      <th></th>\n",
       "      <th></th>\n",
       "      <th></th>\n",
       "      <th></th>\n",
       "    </tr>\n",
       "  </thead>\n",
       "  <tbody>\n",
       "    <tr>\n",
       "      <th>New England</th>\n",
       "      <td>8360643</td>\n",
       "      <td>8512502</td>\n",
       "      <td>8739633</td>\n",
       "      <td>8766028</td>\n",
       "      <td>8712200</td>\n",
       "      <td>8696594</td>\n",
       "      <td>8808905</td>\n",
       "      <td>8901095</td>\n",
       "      <td>8997854</td>\n",
       "      <td>9167892</td>\n",
       "      <td>...</td>\n",
       "      <td>8935933</td>\n",
       "      <td>8892185</td>\n",
       "      <td>9003399</td>\n",
       "      <td>9112599</td>\n",
       "      <td>9266260</td>\n",
       "      <td>9411093</td>\n",
       "      <td>9656177</td>\n",
       "      <td>9775870</td>\n",
       "      <td>9888789</td>\n",
       "      <td>10032617</td>\n",
       "    </tr>\n",
       "    <tr>\n",
       "      <th>Mideast</th>\n",
       "      <td>25170029</td>\n",
       "      <td>25710165</td>\n",
       "      <td>26409297</td>\n",
       "      <td>26495670</td>\n",
       "      <td>26442196</td>\n",
       "      <td>26528689</td>\n",
       "      <td>26904113</td>\n",
       "      <td>27308630</td>\n",
       "      <td>27713122</td>\n",
       "      <td>28251978</td>\n",
       "      <td>...</td>\n",
       "      <td>27759001</td>\n",
       "      <td>27763099</td>\n",
       "      <td>28281659</td>\n",
       "      <td>28578752</td>\n",
       "      <td>28989781</td>\n",
       "      <td>29461455</td>\n",
       "      <td>29957286</td>\n",
       "      <td>30370445</td>\n",
       "      <td>30741798</td>\n",
       "      <td>31321909</td>\n",
       "    </tr>\n",
       "    <tr>\n",
       "      <th>Great Lakes</th>\n",
       "      <td>25953106</td>\n",
       "      <td>26332508</td>\n",
       "      <td>26830018</td>\n",
       "      <td>26554355</td>\n",
       "      <td>26272457</td>\n",
       "      <td>26219630</td>\n",
       "      <td>26440226</td>\n",
       "      <td>26681985</td>\n",
       "      <td>26874698</td>\n",
       "      <td>27135396</td>\n",
       "      <td>...</td>\n",
       "      <td>25773421</td>\n",
       "      <td>25659131</td>\n",
       "      <td>26127720</td>\n",
       "      <td>26416804</td>\n",
       "      <td>26731751</td>\n",
       "      <td>27123259</td>\n",
       "      <td>27532766</td>\n",
       "      <td>27811630</td>\n",
       "      <td>28086812</td>\n",
       "      <td>28477785</td>\n",
       "    </tr>\n",
       "    <tr>\n",
       "      <th>Plains</th>\n",
       "      <td>12239692</td>\n",
       "      <td>12410535</td>\n",
       "      <td>12604124</td>\n",
       "      <td>12601236</td>\n",
       "      <td>12519065</td>\n",
       "      <td>12521105</td>\n",
       "      <td>12673709</td>\n",
       "      <td>12862597</td>\n",
       "      <td>13061326</td>\n",
       "      <td>13280494</td>\n",
       "      <td>...</td>\n",
       "      <td>12991460</td>\n",
       "      <td>12918121</td>\n",
       "      <td>13099492</td>\n",
       "      <td>13262142</td>\n",
       "      <td>13446202</td>\n",
       "      <td>13614283</td>\n",
       "      <td>13781118</td>\n",
       "      <td>13866278</td>\n",
       "      <td>13969215</td>\n",
       "      <td>14133325</td>\n",
       "    </tr>\n",
       "    <tr>\n",
       "      <th>Southeast</th>\n",
       "      <td>38013686</td>\n",
       "      <td>38801665</td>\n",
       "      <td>39694005</td>\n",
       "      <td>39630074</td>\n",
       "      <td>39666968</td>\n",
       "      <td>40061948</td>\n",
       "      <td>41037086</td>\n",
       "      <td>42109692</td>\n",
       "      <td>43150569</td>\n",
       "      <td>44064521</td>\n",
       "      <td>...</td>\n",
       "      <td>42223496</td>\n",
       "      <td>42065743</td>\n",
       "      <td>42886195</td>\n",
       "      <td>43433405</td>\n",
       "      <td>44149358</td>\n",
       "      <td>45199079</td>\n",
       "      <td>46288702</td>\n",
       "      <td>47173634</td>\n",
       "      <td>48250911</td>\n",
       "      <td>49226831</td>\n",
       "    </tr>\n",
       "    <tr>\n",
       "      <th>Southwest</th>\n",
       "      <td>17034267</td>\n",
       "      <td>17352947</td>\n",
       "      <td>17899573</td>\n",
       "      <td>18099376</td>\n",
       "      <td>18110913</td>\n",
       "      <td>18266256</td>\n",
       "      <td>18654514</td>\n",
       "      <td>19316887</td>\n",
       "      <td>20043704</td>\n",
       "      <td>20726409</td>\n",
       "      <td>...</td>\n",
       "      <td>20639897</td>\n",
       "      <td>20634234</td>\n",
       "      <td>21143618</td>\n",
       "      <td>21670433</td>\n",
       "      <td>22224964</td>\n",
       "      <td>22805342</td>\n",
       "      <td>23340442</td>\n",
       "      <td>23709993</td>\n",
       "      <td>24302171</td>\n",
       "      <td>24904537</td>\n",
       "    </tr>\n",
       "    <tr>\n",
       "      <th>Rocky Mountain</th>\n",
       "      <td>5620655</td>\n",
       "      <td>5752111</td>\n",
       "      <td>5952793</td>\n",
       "      <td>6006793</td>\n",
       "      <td>6002340</td>\n",
       "      <td>6023298</td>\n",
       "      <td>6166380</td>\n",
       "      <td>6370711</td>\n",
       "      <td>6589192</td>\n",
       "      <td>6847953</td>\n",
       "      <td>...</td>\n",
       "      <td>6685768</td>\n",
       "      <td>6634557</td>\n",
       "      <td>6760523</td>\n",
       "      <td>6881972</td>\n",
       "      <td>7054731</td>\n",
       "      <td>7252207</td>\n",
       "      <td>7456171</td>\n",
       "      <td>7644026</td>\n",
       "      <td>7851089</td>\n",
       "      <td>8053953</td>\n",
       "    </tr>\n",
       "    <tr>\n",
       "      <th>Far West</th>\n",
       "      <td>26089122</td>\n",
       "      <td>26658867</td>\n",
       "      <td>27241357</td>\n",
       "      <td>27368668</td>\n",
       "      <td>27368961</td>\n",
       "      <td>27603980</td>\n",
       "      <td>28154767</td>\n",
       "      <td>28786803</td>\n",
       "      <td>29438135</td>\n",
       "      <td>30069057</td>\n",
       "      <td>...</td>\n",
       "      <td>28627724</td>\n",
       "      <td>28334630</td>\n",
       "      <td>28789094</td>\n",
       "      <td>29623593</td>\n",
       "      <td>30462053</td>\n",
       "      <td>31367082</td>\n",
       "      <td>32303138</td>\n",
       "      <td>33020024</td>\n",
       "      <td>33734515</td>\n",
       "      <td>34595043</td>\n",
       "    </tr>\n",
       "  </tbody>\n",
       "</table>\n",
       "<p>8 rows × 21 columns</p>\n",
       "</div>"
      ],
      "text/plain": [
       "                    1998      1999      2000      2001      2002      2003  \\\n",
       "GeoName                                                                      \n",
       "New England      8360643   8512502   8739633   8766028   8712200   8696594   \n",
       "Mideast         25170029  25710165  26409297  26495670  26442196  26528689   \n",
       "Great Lakes     25953106  26332508  26830018  26554355  26272457  26219630   \n",
       "Plains          12239692  12410535  12604124  12601236  12519065  12521105   \n",
       "Southeast       38013686  38801665  39694005  39630074  39666968  40061948   \n",
       "Southwest       17034267  17352947  17899573  18099376  18110913  18266256   \n",
       "Rocky Mountain   5620655   5752111   5952793   6006793   6002340   6023298   \n",
       "Far West        26089122  26658867  27241357  27368668  27368961  27603980   \n",
       "\n",
       "                    2004      2005      2006      2007  ...      2009  \\\n",
       "GeoName                                                 ...             \n",
       "New England      8808905   8901095   8997854   9167892  ...   8935933   \n",
       "Mideast         26904113  27308630  27713122  28251978  ...  27759001   \n",
       "Great Lakes     26440226  26681985  26874698  27135396  ...  25773421   \n",
       "Plains          12673709  12862597  13061326  13280494  ...  12991460   \n",
       "Southeast       41037086  42109692  43150569  44064521  ...  42223496   \n",
       "Southwest       18654514  19316887  20043704  20726409  ...  20639897   \n",
       "Rocky Mountain   6166380   6370711   6589192   6847953  ...   6685768   \n",
       "Far West        28154767  28786803  29438135  30069057  ...  28627724   \n",
       "\n",
       "                    2010      2011      2012      2013      2014      2015  \\\n",
       "GeoName                                                                      \n",
       "New England      8892185   9003399   9112599   9266260   9411093   9656177   \n",
       "Mideast         27763099  28281659  28578752  28989781  29461455  29957286   \n",
       "Great Lakes     25659131  26127720  26416804  26731751  27123259  27532766   \n",
       "Plains          12918121  13099492  13262142  13446202  13614283  13781118   \n",
       "Southeast       42065743  42886195  43433405  44149358  45199079  46288702   \n",
       "Southwest       20634234  21143618  21670433  22224964  22805342  23340442   \n",
       "Rocky Mountain   6634557   6760523   6881972   7054731   7252207   7456171   \n",
       "Far West        28334630  28789094  29623593  30462053  31367082  32303138   \n",
       "\n",
       "                    2016      2017      2018  \n",
       "GeoName                                       \n",
       "New England      9775870   9888789  10032617  \n",
       "Mideast         30370445  30741798  31321909  \n",
       "Great Lakes     27811630  28086812  28477785  \n",
       "Plains          13866278  13969215  14133325  \n",
       "Southeast       47173634  48250911  49226831  \n",
       "Southwest       23709993  24302171  24904537  \n",
       "Rocky Mountain   7644026   7851089   8053953  \n",
       "Far West        33020024  33734515  34595043  \n",
       "\n",
       "[8 rows x 21 columns]"
      ]
     },
     "execution_count": 4,
     "metadata": {},
     "output_type": "execute_result"
    }
   ],
   "source": [
    "region_data = data[data['GeoName'].isin(region_names)].copy()\n",
    "region_data = region_data[ region_data['Description'] == 'Total employment (number of jobs)']\n",
    "\n",
    "region_data = region_data.set_index('GeoName')\n",
    "year_list = range(1998,2019)\n",
    "\n",
    "region_data = region_data[year_list]\n",
    "region_data"
   ]
  },
  {
   "cell_type": "code",
   "execution_count": 5,
   "metadata": {},
   "outputs": [
    {
     "data": {
      "text/plain": [
       "<matplotlib.axes._subplots.AxesSubplot at 0x255b6654520>"
      ]
     },
     "execution_count": 5,
     "metadata": {},
     "output_type": "execute_result"
    },
    {
     "data": {
      "image/png": "[encoded data removed]",
      "text/plain": [
       "<Figure size 432x288 with 1 Axes>"
      ]
     },
     "metadata": {
      "needs_background": "light"
     },
     "output_type": "display_data"
    }
   ],
   "source": [
    "region_data_long = region_data.reset_index().melt( id_vars=['GeoName'], var_name='year', value_name = 'value')\n",
    "region_data_long['value'] = region_data_long['value'].astype(float)\n",
    "region_data = pd.pivot_table( region_data_long, index = 'year', columns = 'GeoName' , values = 'value')\n",
    "region_data.plot()"
   ]
  },
  {
   "cell_type": "code",
   "execution_count": 6,
   "metadata": {},
   "outputs": [
    {
     "data": {
      "text/plain": [
       "<matplotlib.axes._subplots.AxesSubplot at 0x255b6cd4e50>"
      ]
     },
     "execution_count": 6,
     "metadata": {},
     "output_type": "execute_result"
    },
    {
     "data": {
      "image/png": "[encoded data removed]",
      "text/plain": [
       "<Figure size 432x288 with 1 Axes>"
      ]
     },
     "metadata": {
      "needs_background": "light"
     },
     "output_type": "display_data"
    }
   ],
   "source": [
    "delta_region_data = region_data.diff(1).dropna()\n",
    "dynamic_spatial_data =  pd.pivot_table(delta_region_data.reset_index(), columns = 'year').loc[region_names]\n",
    "\n",
    "delta_region_data.plot()"
   ]
  },
  {
   "cell_type": "code",
   "execution_count": 7,
   "metadata": {},
   "outputs": [
    {
     "data": {
      "text/plain": [
       "<matplotlib.axes._subplots.AxesSubplot at 0x255b6eef910>"
      ]
     },
     "execution_count": 7,
     "metadata": {},
     "output_type": "execute_result"
    },
    {
     "data": {
      "image/png": "[encoded data removed]",
      "text/plain": [
       "<Figure size 432x288 with 1 Axes>"
      ]
     },
     "metadata": {
      "needs_background": "light"
     },
     "output_type": "display_data"
    }
   ],
   "source": [
    "spatial_df = dynamic_spatial_data.copy()\n",
    "\n",
    "series_means = spatial_df.mean(axis = 1)\n",
    "normalized_spatial_df = spatial_df.copy()\n",
    "normalized_spatial_df = normalized_spatial_df.sub(series_means, axis = 0)\n",
    "series_sd = normalized_spatial_df.std(axis = 1)\n",
    "normalized_spatial_df = normalized_spatial_df.div(series_sd, axis = 0)\n",
    "year_list = normalized_spatial_df.columns\n",
    "\n",
    "pd.pivot_table( normalized_spatial_df.reset_index(), columns = 'GeoName').plot()"
   ]
  },
  {
   "cell_type": "markdown",
   "metadata": {},
   "source": [
    "## Choices for weight matrix here: VAR based weights (correlations),  geography, and uniform"
   ]
  },
  {
   "cell_type": "code",
   "execution_count": 8,
   "metadata": {},
   "outputs": [
    {
     "name": "stderr",
     "output_type": "stream",
     "text": [
      "C:\\Users\\michelj8\\Anaconda3\\lib\\site-packages\\statsmodels\\tsa\\base\\tsa_model.py:213: ValueWarning: An unsupported index was provided and will be ignored when e.g. forecasting.\n",
      "  warnings.warn('An unsupported index was provided and will be'\n"
     ]
    }
   ],
   "source": [
    "# #Matrix coming from a VAR specification\n",
    "# #VAR analysis on the normalized dataset\n",
    "norm_means = delta_region_data.mean(axis =0)\n",
    "norm_delta_region = delta_region_data.sub(norm_means, axis =1)\n",
    "\n",
    "norm_sd = norm_delta_region.std(axis =0)\n",
    "norm_delta_region = norm_delta_region.div(norm_sd, axis =1)\n",
    "\n",
    "model = VAR(delta_region_data).fit()\n",
    "# model = VAR(norm_delta_region).fit()\n",
    "\n",
    "var_matrix = model.params\n",
    "mod_region_names = ['L1.'+x for x in region_names]\n",
    "var_matrix = var_matrix.loc[mod_region_names][region_names].values\n",
    "\n",
    "def max_zero(x):\n",
    "    return max(x,0.0)\n",
    "\n",
    "var_weight_matrix = np.vectorize(max_zero)(var_matrix) \n",
    "for ind in range(0,len(var_weight_matrix)):\n",
    "    var_weight_matrix[ind,ind] =0\n",
    "    \n",
    "var_weight_matrix = pd.DataFrame(var_weight_matrix)\n",
    "var_weight_matrix\n",
    "var_weight_matrix = var_weight_matrix.div( var_weight_matrix.sum(axis = 1), axis = 0)\n",
    "var_weight_matrix = var_weight_matrix.fillna(0)\n",
    "var_weight_matrix = var_weight_matrix.values"
   ]
  },
  {
   "cell_type": "code",
   "execution_count": 9,
   "metadata": {},
   "outputs": [],
   "source": [
    "# #Weight matrix based on adjacent neighbors\n",
    "map_weight_matrix = np.zeros([8,8])\n",
    "\n",
    "map_weight_matrix[0,1] = 1.0\n",
    "map_weight_matrix[1,[0,2,4]] = 1.0/3.0\n",
    "map_weight_matrix[2,[1,3,4]] = 1.0/3.0\n",
    "map_weight_matrix[3,[2,4,5,6]] = 1.0/4.0\n",
    "map_weight_matrix[4,[1,2,3,5]] = 1.0/4.0\n",
    "map_weight_matrix[5,[3,4,6,7]] = 1.0/4.0\n",
    "map_weight_matrix[6,[3,5,7]] = 1.0/3.0\n",
    "map_weight_matrix[7,[5,6]] = 1.0/2.0"
   ]
  },
  {
   "cell_type": "code",
   "execution_count": 10,
   "metadata": {},
   "outputs": [],
   "source": [
    "unif_weight_matrix = np.ones([len(dynamic_spatial_data), len(dynamic_spatial_data)])\n",
    "unif_weight_matrix = unif_weight_matrix/len(dynamic_spatial_data)\n",
    "\n",
    "for ind in range(0,len(unif_weight_matrix)):\n",
    "    unif_weight_matrix[ind,ind] =0"
   ]
  },
  {
   "cell_type": "markdown",
   "metadata": {},
   "source": [
    "# Define the forecasting functions here"
   ]
  },
  {
   "cell_type": "code",
   "execution_count": 11,
   "metadata": {},
   "outputs": [],
   "source": [
    "def forecast_k_ahead(theta, k, spatial_df, w_matrix):\n",
    "    no_series = len(spatial_df)\n",
    "    \n",
    "    #In this section we normalize the data to be forecasted, giving it mean 0 and s.d. 1\n",
    "    series_means = spatial_df.mean(axis = 1)\n",
    "    normalized_spatial_df = spatial_df.copy()\n",
    "    normalized_spatial_df = normalized_spatial_df.sub(series_means, axis = 0)\n",
    "    series_sd = normalized_spatial_df.std(axis = 1)\n",
    "    normalized_spatial_df = normalized_spatial_df.div(series_sd, axis = 0)\n",
    "    \n",
    "#     alpha = np.array(theta[0:8]).reshape([8,1])\n",
    "    rho = theta[0]\n",
    "    phi = theta[1]\n",
    "    lam = theta[2]\n",
    "    \n",
    "    id_matrix = diag_to_matrix(no_series*[1])\n",
    "    aux_matrix = rho* id_matrix + phi * w_matrix\n",
    "    s_matrix = id_matrix - lam*w_matrix\n",
    "    \n",
    "    s_inv_matrix = np.linalg.inv(s_matrix)\n",
    "    m_theta_matrix = np.dot(s_inv_matrix, aux_matrix)\n",
    "    \n",
    "    forecast_array = normalized_spatial_df.copy()\n",
    "    for k_ahead in range(0,k):\n",
    "#         forecast_array = np.dot(s_inv_matrix,alpha) + np.dot(m_theta_matrix, forecast_array)\n",
    "        forecast_array = np.dot(m_theta_matrix, forecast_array)\n",
    "\n",
    "    forecast_df = pd.DataFrame(forecast_array)\n",
    "    forecast_df['region'] = region_names\n",
    "    forecast_df = forecast_df.set_index('region')\n",
    "    forecast_df = forecast_df.mul(series_sd, axis =0).add(series_means, axis =0 )\n",
    "    forecast_df.columns = spatial_df.columns + k\n",
    "    \n",
    "    return forecast_df"
   ]
  },
  {
   "cell_type": "code",
   "execution_count": 12,
   "metadata": {},
   "outputs": [],
   "source": [
    "def forecast_errors_k_ahead(theta,k, spatial_df, w_matrix):\n",
    "    forecast_df = forecast_k_ahead(theta,k,spatial_df,w_matrix)\n",
    "    \n",
    "    data_years = list(spatial_df.columns)\n",
    "    forecast_years = list(forecast_df.columns)\n",
    "    overlap_years = [x for x in data_years if x in forecast_years]\n",
    "    \n",
    "    errors = forecast_df[overlap_years]-spatial_df[overlap_years]\n",
    "    return errors"
   ]
  },
  {
   "cell_type": "code",
   "execution_count": 13,
   "metadata": {},
   "outputs": [],
   "source": [
    "def sse_k_ahead(theta,k,spatial_df, w_matrix):\n",
    "    error_df = forecast_errors_k_ahead(theta,k,spatial_df,w_matrix)\n",
    "    return np.square(error_df).sum().sum()"
   ]
  },
  {
   "cell_type": "code",
   "execution_count": 14,
   "metadata": {},
   "outputs": [
    {
     "name": "stdout",
     "output_type": "stream",
     "text": [
      "(0.5333333333333333, 0.0, 0.0)\n",
      "14404231649464.836\n",
      "20277433408431.86\n"
     ]
    }
   ],
   "source": [
    "import itertools\n",
    "first_year = 1999\n",
    "last_year_out = 2019\n",
    "k = 1\n",
    "weight_matrix = map_weight_matrix\n",
    "\n",
    "def data_sse_k_ahead(theta,k,min_year, max_year,w_matrix):\n",
    "    return sse_k_ahead(theta,k,dynamic_spatial_data[range(min_year,max_year)], w_matrix)\n",
    "\n",
    "min_theta = [0,0,0]\n",
    "min_errors = data_sse_k_ahead(min_theta,k,first_year, last_year_out, weight_matrix)\n",
    "\n",
    "rho_grid = np.linspace(0,.6,10)\n",
    "phi_grid = np.linspace(0,.1,10)\n",
    "lam_grid = np.linspace(0,.05,10)\n",
    "\n",
    "for theta in itertools.product(rho_grid, phi_grid, lam_grid):\n",
    "    errors = data_sse_k_ahead(theta,k,first_year, last_year_out, weight_matrix)\n",
    "    if errors < min_errors:\n",
    "        min_theta = theta\n",
    "        min_errors = errors\n",
    "        \n",
    "print(min_theta)\n",
    "print( sse_k_ahead(min_theta,1,dynamic_spatial_data,weight_matrix ) )\n",
    "print( sse_k_ahead([0,0,0],1,dynamic_spatial_data,weight_matrix ) )"
   ]
  },
  {
   "cell_type": "markdown",
   "metadata": {},
   "source": [
    "### Many AR(1)s"
   ]
  },
  {
   "cell_type": "code",
   "execution_count": 5,
   "metadata": {},
   "outputs": [
    {
     "ename": "NameError",
     "evalue": "name 'region_names' is not defined",
     "output_type": "error",
     "traceback": [
      "\u001b[1;31m---------------------------------------------------------------------------\u001b[0m",
      "\u001b[1;31mNameError\u001b[0m                                 Traceback (most recent call last)",
      "\u001b[1;32m<ipython-input-5-0bbedba9c9be>\u001b[0m in \u001b[0;36m<module>\u001b[1;34m\u001b[0m\n\u001b[0;32m      4\u001b[0m \u001b[0msse\u001b[0m \u001b[1;33m=\u001b[0m \u001b[1;36m0\u001b[0m\u001b[1;33m\u001b[0m\u001b[1;33m\u001b[0m\u001b[0m\n\u001b[0;32m      5\u001b[0m \u001b[1;33m\u001b[0m\u001b[0m\n\u001b[1;32m----> 6\u001b[1;33m \u001b[1;32mfor\u001b[0m \u001b[0mregion\u001b[0m \u001b[1;32min\u001b[0m \u001b[0mregion_names\u001b[0m\u001b[1;33m:\u001b[0m\u001b[1;33m\u001b[0m\u001b[1;33m\u001b[0m\u001b[0m\n\u001b[0m\u001b[0;32m      7\u001b[0m     \u001b[0mregion_series\u001b[0m \u001b[1;33m=\u001b[0m \u001b[0mdynamic_spatial_data\u001b[0m\u001b[1;33m.\u001b[0m\u001b[0mloc\u001b[0m\u001b[1;33m[\u001b[0m\u001b[0mregion\u001b[0m\u001b[1;33m]\u001b[0m\u001b[1;33m.\u001b[0m\u001b[0mvalues\u001b[0m\u001b[1;33m\u001b[0m\u001b[1;33m\u001b[0m\u001b[0m\n\u001b[0;32m      8\u001b[0m     \u001b[0mmodel\u001b[0m \u001b[1;33m=\u001b[0m \u001b[0mARMA\u001b[0m\u001b[1;33m(\u001b[0m\u001b[0mregion_series\u001b[0m\u001b[1;33m,\u001b[0m \u001b[1;33m(\u001b[0m\u001b[1;36m1\u001b[0m\u001b[1;33m,\u001b[0m\u001b[1;36m0\u001b[0m\u001b[1;33m)\u001b[0m\u001b[1;33m)\u001b[0m\u001b[1;33m.\u001b[0m\u001b[0mfit\u001b[0m\u001b[1;33m(\u001b[0m\u001b[1;33m)\u001b[0m\u001b[1;33m\u001b[0m\u001b[1;33m\u001b[0m\u001b[0m\n",
      "\u001b[1;31mNameError\u001b[0m: name 'region_names' is not defined"
     ]
    }
   ],
   "source": [
    "from statsmodels.tsa.arima_model import ARMA\n",
    "\n",
    "ar_df = pd.DataFrame(columns = ['alpha','rho'])\n",
    "sse = 0\n",
    "\n",
    "for region in region_names:\n",
    "    region_series = dynamic_spatial_data.loc[region].values\n",
    "    model = ARMA(region_series, (1,0)).fit()\n",
    "    ar_df.loc[region] = model.params\n",
    "    sse = sse + np.square(region_series - model.predict()).sum()\n",
    "    \n",
    "print(sse)"
   ]
  },
  {
   "cell_type": "code",
   "execution_count": 16,
   "metadata": {},
   "outputs": [
    {
     "data": {
      "text/html": [
       "<div>\n",
       "<style scoped>\n",
       "    .dataframe tbody tr th:only-of-type {\n",
       "        vertical-align: middle;\n",
       "    }\n",
       "\n",
       "    .dataframe tbody tr th {\n",
       "        vertical-align: top;\n",
       "    }\n",
       "\n",
       "    .dataframe thead th {\n",
       "        text-align: right;\n",
       "    }\n",
       "</style>\n",
       "<table border=\"1\" class=\"dataframe\">\n",
       "  <thead>\n",
       "    <tr style=\"text-align: right;\">\n",
       "      <th></th>\n",
       "      <th>alpha</th>\n",
       "      <th>rho</th>\n",
       "    </tr>\n",
       "  </thead>\n",
       "  <tbody>\n",
       "    <tr>\n",
       "      <th>New England</th>\n",
       "      <td>83598.700001</td>\n",
       "      <td>0.434908</td>\n",
       "    </tr>\n",
       "    <tr>\n",
       "      <th>Mideast</th>\n",
       "      <td>307593.999998</td>\n",
       "      <td>0.376649</td>\n",
       "    </tr>\n",
       "    <tr>\n",
       "      <th>Great Lakes</th>\n",
       "      <td>126233.950000</td>\n",
       "      <td>0.414870</td>\n",
       "    </tr>\n",
       "    <tr>\n",
       "      <th>Plains</th>\n",
       "      <td>94681.650001</td>\n",
       "      <td>0.447333</td>\n",
       "    </tr>\n",
       "    <tr>\n",
       "      <th>Southeast</th>\n",
       "      <td>560657.250000</td>\n",
       "      <td>0.532347</td>\n",
       "    </tr>\n",
       "    <tr>\n",
       "      <th>Southwest</th>\n",
       "      <td>393513.500005</td>\n",
       "      <td>0.470837</td>\n",
       "    </tr>\n",
       "    <tr>\n",
       "      <th>Rocky Mountain</th>\n",
       "      <td>121664.900005</td>\n",
       "      <td>0.532584</td>\n",
       "    </tr>\n",
       "    <tr>\n",
       "      <th>Far West</th>\n",
       "      <td>425296.050000</td>\n",
       "      <td>0.630701</td>\n",
       "    </tr>\n",
       "  </tbody>\n",
       "</table>\n",
       "</div>"
      ],
      "text/plain": [
       "                        alpha       rho\n",
       "New England      83598.700001  0.434908\n",
       "Mideast         307593.999998  0.376649\n",
       "Great Lakes     126233.950000  0.414870\n",
       "Plains           94681.650001  0.447333\n",
       "Southeast       560657.250000  0.532347\n",
       "Southwest       393513.500005  0.470837\n",
       "Rocky Mountain  121664.900005  0.532584\n",
       "Far West        425296.050000  0.630701"
      ]
     },
     "execution_count": 16,
     "metadata": {},
     "output_type": "execute_result"
    }
   ],
   "source": [
    "ar_df"
   ]
  },
  {
   "cell_type": "markdown",
   "metadata": {},
   "source": [
    "### Var Model"
   ]
  },
  {
   "cell_type": "code",
   "execution_count": 19,
   "metadata": {},
   "outputs": [
    {
     "name": "stderr",
     "output_type": "stream",
     "text": [
      "C:\\Users\\michelj8\\Anaconda3\\lib\\site-packages\\statsmodels\\tsa\\base\\tsa_model.py:213: ValueWarning: An unsupported index was provided and will be ignored when e.g. forecasting.\n",
      "  warnings.warn('An unsupported index was provided and will be'\n"
     ]
    },
    {
     "data": {
      "text/html": [
       "<div>\n",
       "<style scoped>\n",
       "    .dataframe tbody tr th:only-of-type {\n",
       "        vertical-align: middle;\n",
       "    }\n",
       "\n",
       "    .dataframe tbody tr th {\n",
       "        vertical-align: top;\n",
       "    }\n",
       "\n",
       "    .dataframe thead th {\n",
       "        text-align: right;\n",
       "    }\n",
       "</style>\n",
       "<table border=\"1\" class=\"dataframe\">\n",
       "  <thead>\n",
       "    <tr style=\"text-align: right;\">\n",
       "      <th></th>\n",
       "      <th>Far West</th>\n",
       "      <th>Great Lakes</th>\n",
       "      <th>Mideast</th>\n",
       "      <th>New England</th>\n",
       "      <th>Plains</th>\n",
       "      <th>Rocky Mountain</th>\n",
       "      <th>Southeast</th>\n",
       "      <th>Southwest</th>\n",
       "    </tr>\n",
       "  </thead>\n",
       "  <tbody>\n",
       "    <tr>\n",
       "      <th>const</th>\n",
       "      <td>1.012265e+06</td>\n",
       "      <td>1.192622e+06</td>\n",
       "      <td>989167.279215</td>\n",
       "      <td>235646.717660</td>\n",
       "      <td>401592.151639</td>\n",
       "      <td>300332.725255</td>\n",
       "      <td>1.561234e+06</td>\n",
       "      <td>1.194112e+06</td>\n",
       "    </tr>\n",
       "    <tr>\n",
       "      <th>L1.Far West</th>\n",
       "      <td>5.132179e-01</td>\n",
       "      <td>-4.083542e-01</td>\n",
       "      <td>-0.398882</td>\n",
       "      <td>0.049539</td>\n",
       "      <td>-0.201466</td>\n",
       "      <td>-0.079313</td>\n",
       "      <td>2.433818e-01</td>\n",
       "      <td>-6.746560e-01</td>\n",
       "    </tr>\n",
       "    <tr>\n",
       "      <th>L1.Great Lakes</th>\n",
       "      <td>2.348734e+00</td>\n",
       "      <td>3.073557e+00</td>\n",
       "      <td>1.955212</td>\n",
       "      <td>0.505773</td>\n",
       "      <td>0.900160</td>\n",
       "      <td>0.525672</td>\n",
       "      <td>2.467037e+00</td>\n",
       "      <td>2.483676e+00</td>\n",
       "    </tr>\n",
       "    <tr>\n",
       "      <th>L1.Mideast</th>\n",
       "      <td>-3.479702e+00</td>\n",
       "      <td>-4.981912e+00</td>\n",
       "      <td>-3.471130</td>\n",
       "      <td>-0.716788</td>\n",
       "      <td>-1.579106</td>\n",
       "      <td>-1.145953</td>\n",
       "      <td>-5.397094e+00</td>\n",
       "      <td>-4.203463e+00</td>\n",
       "    </tr>\n",
       "    <tr>\n",
       "      <th>L1.New England</th>\n",
       "      <td>-8.705638e-01</td>\n",
       "      <td>-2.309329e-01</td>\n",
       "      <td>-0.041691</td>\n",
       "      <td>-0.399945</td>\n",
       "      <td>-0.486937</td>\n",
       "      <td>-0.067162</td>\n",
       "      <td>-1.072659e+00</td>\n",
       "      <td>-1.452912e+00</td>\n",
       "    </tr>\n",
       "    <tr>\n",
       "      <th>L1.Plains</th>\n",
       "      <td>1.077581e+00</td>\n",
       "      <td>4.025687e+00</td>\n",
       "      <td>3.293711</td>\n",
       "      <td>0.793153</td>\n",
       "      <td>1.964625</td>\n",
       "      <td>1.156954</td>\n",
       "      <td>4.036576e+00</td>\n",
       "      <td>4.819284e+00</td>\n",
       "    </tr>\n",
       "    <tr>\n",
       "      <th>L1.Rocky Mountain</th>\n",
       "      <td>-8.146148e-01</td>\n",
       "      <td>4.652950e+00</td>\n",
       "      <td>3.508871</td>\n",
       "      <td>0.443131</td>\n",
       "      <td>1.196432</td>\n",
       "      <td>1.067080</td>\n",
       "      <td>2.001441e+00</td>\n",
       "      <td>6.395266e+00</td>\n",
       "    </tr>\n",
       "    <tr>\n",
       "      <th>L1.Southeast</th>\n",
       "      <td>6.872914e-01</td>\n",
       "      <td>3.710969e-01</td>\n",
       "      <td>0.412550</td>\n",
       "      <td>0.092309</td>\n",
       "      <td>0.209051</td>\n",
       "      <td>0.197479</td>\n",
       "      <td>1.422440e+00</td>\n",
       "      <td>2.610848e-01</td>\n",
       "    </tr>\n",
       "    <tr>\n",
       "      <th>L1.Southwest</th>\n",
       "      <td>-9.076047e-01</td>\n",
       "      <td>-2.336194e+00</td>\n",
       "      <td>-1.740096</td>\n",
       "      <td>-0.428635</td>\n",
       "      <td>-0.681332</td>\n",
       "      <td>-0.527632</td>\n",
       "      <td>-2.842592e+00</td>\n",
       "      <td>-2.051352e+00</td>\n",
       "    </tr>\n",
       "  </tbody>\n",
       "</table>\n",
       "</div>"
      ],
      "text/plain": [
       "                       Far West   Great Lakes        Mideast    New England  \\\n",
       "const              1.012265e+06  1.192622e+06  989167.279215  235646.717660   \n",
       "L1.Far West        5.132179e-01 -4.083542e-01      -0.398882       0.049539   \n",
       "L1.Great Lakes     2.348734e+00  3.073557e+00       1.955212       0.505773   \n",
       "L1.Mideast        -3.479702e+00 -4.981912e+00      -3.471130      -0.716788   \n",
       "L1.New England    -8.705638e-01 -2.309329e-01      -0.041691      -0.399945   \n",
       "L1.Plains          1.077581e+00  4.025687e+00       3.293711       0.793153   \n",
       "L1.Rocky Mountain -8.146148e-01  4.652950e+00       3.508871       0.443131   \n",
       "L1.Southeast       6.872914e-01  3.710969e-01       0.412550       0.092309   \n",
       "L1.Southwest      -9.076047e-01 -2.336194e+00      -1.740096      -0.428635   \n",
       "\n",
       "                          Plains  Rocky Mountain     Southeast     Southwest  \n",
       "const              401592.151639   300332.725255  1.561234e+06  1.194112e+06  \n",
       "L1.Far West            -0.201466       -0.079313  2.433818e-01 -6.746560e-01  \n",
       "L1.Great Lakes          0.900160        0.525672  2.467037e+00  2.483676e+00  \n",
       "L1.Mideast             -1.579106       -1.145953 -5.397094e+00 -4.203463e+00  \n",
       "L1.New England         -0.486937       -0.067162 -1.072659e+00 -1.452912e+00  \n",
       "L1.Plains               1.964625        1.156954  4.036576e+00  4.819284e+00  \n",
       "L1.Rocky Mountain       1.196432        1.067080  2.001441e+00  6.395266e+00  \n",
       "L1.Southeast            0.209051        0.197479  1.422440e+00  2.610848e-01  \n",
       "L1.Southwest           -0.681332       -0.527632 -2.842592e+00 -2.051352e+00  "
      ]
     },
     "execution_count": 19,
     "metadata": {},
     "output_type": "execute_result"
    }
   ],
   "source": [
    "model = VAR(delta_region_data).fit()\n",
    "model.params"
   ]
  },
  {
   "cell_type": "code",
   "execution_count": 20,
   "metadata": {},
   "outputs": [
    {
     "data": {
      "text/plain": [
       "3561107283388.0654"
      ]
     },
     "execution_count": 20,
     "metadata": {},
     "output_type": "execute_result"
    }
   ],
   "source": [
    "np.square(model.resid).sum().sum()"
   ]
  },
  {
   "cell_type": "markdown",
   "metadata": {},
   "source": [
    "### Moran's I-test"
   ]
  },
  {
   "cell_type": "code",
   "execution_count": 40,
   "metadata": {},
   "outputs": [
    {
     "name": "stdout",
     "output_type": "stream",
     "text": [
      "1999 0.9278956980944979\n",
      "2000 4.285361002351182\n",
      "2001 3.6722061302228517\n",
      "2002 8.58504073909911\n",
      "2003 2.8165481855949377\n",
      "2004 0.4989844287225677\n",
      "2005 1.8869696446870636\n",
      "2006 2.1577097219822585\n",
      "2007 3.820289969861726\n",
      "2008 4.39319320314295\n",
      "2009 63.587100815273246\n",
      "2010 9.612634546845335\n",
      "2011 1.1772246462538205\n",
      "2012 0.5284796709465837\n",
      "2013 1.8759369828442203\n",
      "2014 3.0715794617862766\n",
      "2015 4.3303799600936586\n",
      "2016 0.6477133285708634\n",
      "2017 1.4299211620802807\n",
      "2018 3.3677125414876814\n"
     ]
    }
   ],
   "source": [
    "weight_matrix = unif_weight_matrix\n",
    "\n",
    "spatial_df = dynamic_spatial_data.copy()\n",
    "\n",
    "series_means = spatial_df.mean(axis = 1)\n",
    "normalized_spatial_df = spatial_df.copy()\n",
    "normalized_spatial_df = normalized_spatial_df.sub(series_means, axis = 0)\n",
    "series_sd = normalized_spatial_df.std(axis = 1)\n",
    "normalized_spatial_df = normalized_spatial_df.div(series_sd, axis = 0)\n",
    "year_list = normalized_spatial_df.columns\n",
    "\n",
    "for year in normalized_spatial_df.columns:\n",
    "    year_vec = normalized_spatial_df[year]\n",
    "    print(year, np.dot(np.dot(weight_matrix,year_vec),year_vec))"
   ]
  },
  {
   "cell_type": "code",
   "execution_count": 46,
   "metadata": {},
   "outputs": [
    {
     "data": {
      "text/plain": [
       "<matplotlib.axes._subplots.AxesSubplot at 0x255b67d6a60>"
      ]
     },
     "execution_count": 46,
     "metadata": {},
     "output_type": "execute_result"
    },
    {
     "data": {
      "image/png": "[encoded data removed]",
      "text/plain": [
       "<Figure size 432x288 with 1 Axes>"
      ]
     },
     "metadata": {
      "needs_background": "light"
     },
     "output_type": "display_data"
    }
   ],
   "source": [
    "errors_df = forecast_errors_k_ahead([0.5333333333333333,0.0,0.0],1, spatial_df, weight_matrix)\n",
    "\n",
    "pd.pivot_table(errors_df.reset_index(), columns='region').plot()"
   ]
  },
  {
   "cell_type": "code",
   "execution_count": 52,
   "metadata": {},
   "outputs": [
    {
     "name": "stdout",
     "output_type": "stream",
     "text": [
      "2000 -501819341584.1204\n",
      "2001 62903185317.63957\n",
      "2002 -70548232758.21417\n",
      "2003 -1613318393.121667\n",
      "2004 -442661638237.58374\n",
      "2005 -337340240738.0054\n",
      "2006 -240286432064.06876\n",
      "2007 -321348759285.24835\n",
      "2008 -63900786914.499176\n",
      "2009 -3695999034831.7393\n",
      "2010 95856010189.61334\n",
      "2011 -866211288752.6392\n",
      "2012 -41732073127.25379\n",
      "2013 -288240153826.59503\n",
      "2014 -449539157329.2513\n",
      "2015 -427601712648.5371\n",
      "2016 42303622333.763336\n",
      "2017 -283292441517.07715\n"
     ]
    }
   ],
   "source": [
    "for year in range (2000,2018):\n",
    "    year_vec = dynamic_spatial_data[year]\n",
    "    error_vec = errors_df[year]\n",
    "    print( year, np.dot(error_vec, np.dot(weight_matrix,year_vec)))"
   ]
  },
  {
   "cell_type": "code",
   "execution_count": null,
   "metadata": {},
   "outputs": [],
   "source": []
  }
 ],
 "metadata": {
  "kernelspec": {
   "display_name": "Python 3",
   "language": "python",
   "name": "python3"
  },
  "language_info": {
   "codemirror_mode": {
    "name": "ipython",
    "version": 3
   },
   "file_extension": ".py",
   "mimetype": "text/x-python",
   "name": "python",
   "nbconvert_exporter": "python",
   "pygments_lexer": "ipython3",
   "version": "3.8.3"
  }
 },
 "nbformat": 4,
 "nbformat_minor": 4
}
