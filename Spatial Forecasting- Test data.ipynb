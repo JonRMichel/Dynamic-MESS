{
 "cells": [
  {
   "cell_type": "code",
   "execution_count": 1,
   "metadata": {},
   "outputs": [],
   "source": [
    "import numpy as np\n",
    "import pandas as pd\n",
    "import matplotlib.pyplot as plt\n",
    "from statsmodels.tsa.api import VAR"
   ]
  },
  {
   "cell_type": "code",
   "execution_count": 2,
   "metadata": {},
   "outputs": [],
   "source": [
    "def dim_matrix(matrix):\n",
    "    return len(matrix),len(matrix[0])\n",
    "\n",
    "def diag_to_matrix(array):\n",
    "    length = len(array)\n",
    "    matrix = np.zeros([length,length])\n",
    "\n",
    "    for row in range(0, length):\n",
    "        matrix[row][row] = array[row]\n",
    "\n",
    "    return matrix"
   ]
  },
  {
   "cell_type": "code",
   "execution_count": 3,
   "metadata": {},
   "outputs": [
    {
     "data": {
      "text/html": [
       "<div>\n",
       "<style scoped>\n",
       "    .dataframe tbody tr th:only-of-type {\n",
       "        vertical-align: middle;\n",
       "    }\n",
       "\n",
       "    .dataframe tbody tr th {\n",
       "        vertical-align: top;\n",
       "    }\n",
       "\n",
       "    .dataframe thead th {\n",
       "        text-align: right;\n",
       "    }\n",
       "</style>\n",
       "<table border=\"1\" class=\"dataframe\">\n",
       "  <thead>\n",
       "    <tr style=\"text-align: right;\">\n",
       "      <th></th>\n",
       "      <th>GeoName</th>\n",
       "      <th>1</th>\n",
       "      <th>2</th>\n",
       "      <th>3</th>\n",
       "      <th>4</th>\n",
       "      <th>5</th>\n",
       "      <th>6</th>\n",
       "      <th>7</th>\n",
       "      <th>8</th>\n",
       "      <th>9</th>\n",
       "      <th>...</th>\n",
       "      <th>11</th>\n",
       "      <th>12</th>\n",
       "      <th>13</th>\n",
       "      <th>14</th>\n",
       "      <th>15</th>\n",
       "      <th>16</th>\n",
       "      <th>17</th>\n",
       "      <th>18</th>\n",
       "      <th>19</th>\n",
       "      <th>20</th>\n",
       "    </tr>\n",
       "  </thead>\n",
       "  <tbody>\n",
       "    <tr>\n",
       "      <th>0</th>\n",
       "      <td>A</td>\n",
       "      <td>0.763041</td>\n",
       "      <td>0.613304</td>\n",
       "      <td>1.010560</td>\n",
       "      <td>1.335926</td>\n",
       "      <td>1.227371</td>\n",
       "      <td>1.236897</td>\n",
       "      <td>1.760362</td>\n",
       "      <td>1.779145</td>\n",
       "      <td>1.502699</td>\n",
       "      <td>...</td>\n",
       "      <td>1.797913</td>\n",
       "      <td>1.708885</td>\n",
       "      <td>2.068604</td>\n",
       "      <td>2.236400</td>\n",
       "      <td>1.707694</td>\n",
       "      <td>1.859276</td>\n",
       "      <td>1.776400</td>\n",
       "      <td>2.071460</td>\n",
       "      <td>1.881300</td>\n",
       "      <td>1.721234</td>\n",
       "    </tr>\n",
       "    <tr>\n",
       "      <th>1</th>\n",
       "      <td>B</td>\n",
       "      <td>0.121442</td>\n",
       "      <td>0.758527</td>\n",
       "      <td>0.840336</td>\n",
       "      <td>1.460023</td>\n",
       "      <td>1.459809</td>\n",
       "      <td>1.014948</td>\n",
       "      <td>1.217272</td>\n",
       "      <td>1.738741</td>\n",
       "      <td>2.090783</td>\n",
       "      <td>...</td>\n",
       "      <td>2.121304</td>\n",
       "      <td>1.413151</td>\n",
       "      <td>1.842288</td>\n",
       "      <td>1.504895</td>\n",
       "      <td>1.453550</td>\n",
       "      <td>1.856370</td>\n",
       "      <td>1.504546</td>\n",
       "      <td>1.793134</td>\n",
       "      <td>2.136047</td>\n",
       "      <td>1.802515</td>\n",
       "    </tr>\n",
       "    <tr>\n",
       "      <th>2</th>\n",
       "      <td>C</td>\n",
       "      <td>0.897191</td>\n",
       "      <td>0.688994</td>\n",
       "      <td>0.819422</td>\n",
       "      <td>1.043065</td>\n",
       "      <td>1.376121</td>\n",
       "      <td>1.142730</td>\n",
       "      <td>1.148341</td>\n",
       "      <td>1.285991</td>\n",
       "      <td>1.214368</td>\n",
       "      <td>...</td>\n",
       "      <td>0.905318</td>\n",
       "      <td>1.011163</td>\n",
       "      <td>1.062949</td>\n",
       "      <td>1.598621</td>\n",
       "      <td>1.982707</td>\n",
       "      <td>2.249975</td>\n",
       "      <td>1.853039</td>\n",
       "      <td>1.604357</td>\n",
       "      <td>1.476063</td>\n",
       "      <td>1.265674</td>\n",
       "    </tr>\n",
       "    <tr>\n",
       "      <th>3</th>\n",
       "      <td>D</td>\n",
       "      <td>0.883783</td>\n",
       "      <td>1.564482</td>\n",
       "      <td>1.949984</td>\n",
       "      <td>1.977637</td>\n",
       "      <td>1.329059</td>\n",
       "      <td>1.178102</td>\n",
       "      <td>1.099520</td>\n",
       "      <td>1.009249</td>\n",
       "      <td>1.671471</td>\n",
       "      <td>...</td>\n",
       "      <td>2.108700</td>\n",
       "      <td>1.783046</td>\n",
       "      <td>2.019192</td>\n",
       "      <td>1.752922</td>\n",
       "      <td>2.079098</td>\n",
       "      <td>2.381718</td>\n",
       "      <td>1.887941</td>\n",
       "      <td>1.757791</td>\n",
       "      <td>1.309714</td>\n",
       "      <td>1.491567</td>\n",
       "    </tr>\n",
       "    <tr>\n",
       "      <th>4</th>\n",
       "      <td>E</td>\n",
       "      <td>0.970681</td>\n",
       "      <td>0.935181</td>\n",
       "      <td>0.797022</td>\n",
       "      <td>0.630667</td>\n",
       "      <td>0.735882</td>\n",
       "      <td>1.162991</td>\n",
       "      <td>1.129236</td>\n",
       "      <td>1.009160</td>\n",
       "      <td>0.974439</td>\n",
       "      <td>...</td>\n",
       "      <td>1.799736</td>\n",
       "      <td>1.335444</td>\n",
       "      <td>0.960245</td>\n",
       "      <td>1.338912</td>\n",
       "      <td>1.716879</td>\n",
       "      <td>2.066515</td>\n",
       "      <td>2.139327</td>\n",
       "      <td>1.969188</td>\n",
       "      <td>2.227908</td>\n",
       "      <td>2.439112</td>\n",
       "    </tr>\n",
       "  </tbody>\n",
       "</table>\n",
       "<p>5 rows × 21 columns</p>\n",
       "</div>"
      ],
      "text/plain": [
       "  GeoName         1         2         3         4         5         6  \\\n",
       "0       A  0.763041  0.613304  1.010560  1.335926  1.227371  1.236897   \n",
       "1       B  0.121442  0.758527  0.840336  1.460023  1.459809  1.014948   \n",
       "2       C  0.897191  0.688994  0.819422  1.043065  1.376121  1.142730   \n",
       "3       D  0.883783  1.564482  1.949984  1.977637  1.329059  1.178102   \n",
       "4       E  0.970681  0.935181  0.797022  0.630667  0.735882  1.162991   \n",
       "\n",
       "          7         8         9  ...        11        12        13        14  \\\n",
       "0  1.760362  1.779145  1.502699  ...  1.797913  1.708885  2.068604  2.236400   \n",
       "1  1.217272  1.738741  2.090783  ...  2.121304  1.413151  1.842288  1.504895   \n",
       "2  1.148341  1.285991  1.214368  ...  0.905318  1.011163  1.062949  1.598621   \n",
       "3  1.099520  1.009249  1.671471  ...  2.108700  1.783046  2.019192  1.752922   \n",
       "4  1.129236  1.009160  0.974439  ...  1.799736  1.335444  0.960245  1.338912   \n",
       "\n",
       "         15        16        17        18        19        20  \n",
       "0  1.707694  1.859276  1.776400  2.071460  1.881300  1.721234  \n",
       "1  1.453550  1.856370  1.504546  1.793134  2.136047  1.802515  \n",
       "2  1.982707  2.249975  1.853039  1.604357  1.476063  1.265674  \n",
       "3  2.079098  2.381718  1.887941  1.757791  1.309714  1.491567  \n",
       "4  1.716879  2.066515  2.139327  1.969188  2.227908  2.439112  \n",
       "\n",
       "[5 rows x 21 columns]"
      ]
     },
     "execution_count": 3,
     "metadata": {},
     "output_type": "execute_result"
    }
   ],
   "source": [
    "data  = pd.read_excel( \"C:/Users/michelj8/Documents/GitHub/Dynamic-MESS/test_data.xlsx\")\n",
    "region_names = ['A','B','C','D','E']\n",
    "data.head()"
   ]
  },
  {
   "cell_type": "code",
   "execution_count": 12,
   "metadata": {},
   "outputs": [],
   "source": [
    "region_data = data[data['GeoName'].isin(region_names)].copy()\n",
    "# region_data = region_data[ region_data['Description'] == 'Total employment (number of jobs)']\n",
    "\n",
    "region_data = region_data.set_index('GeoName')\n",
    "year_list = range(1,21)\n",
    "\n",
    "region_data = region_data[year_list]\n",
    "region_data\n",
    "dynamic_spatial_data =region_data.copy()"
   ]
  },
  {
   "cell_type": "code",
   "execution_count": 13,
   "metadata": {},
   "outputs": [
    {
     "data": {
      "text/plain": [
       "<matplotlib.axes._subplots.AxesSubplot at 0x275a94e8a90>"
      ]
     },
     "execution_count": 13,
     "metadata": {},
     "output_type": "execute_result"
    },
    {
     "data": {
      "image/png": "[encoded data removed]",
      "text/plain": [
       "<Figure size 432x288 with 1 Axes>"
      ]
     },
     "metadata": {
      "needs_background": "light"
     },
     "output_type": "display_data"
    }
   ],
   "source": [
    "region_data_long = region_data.reset_index().melt( id_vars=['GeoName'], var_name='year', value_name = 'value')\n",
    "region_data_long['value'] = region_data_long['value'].astype(float)\n",
    "region_data = pd.pivot_table( region_data_long, index = 'year', columns = 'GeoName' , values = 'value')\n",
    "\n",
    "region_data.plot()"
   ]
  },
  {
   "cell_type": "code",
   "execution_count": 14,
   "metadata": {},
   "outputs": [
    {
     "data": {
      "text/plain": [
       "<matplotlib.axes._subplots.AxesSubplot at 0x275a986c790>"
      ]
     },
     "execution_count": 14,
     "metadata": {},
     "output_type": "execute_result"
    },
    {
     "data": {
      "image/png": "[encoded data removed]",
      "text/plain": [
       "<Figure size 432x288 with 1 Axes>"
      ]
     },
     "metadata": {
      "needs_background": "light"
     },
     "output_type": "display_data"
    }
   ],
   "source": [
    "spatial_df = dynamic_spatial_data.copy()\n",
    "\n",
    "series_means = spatial_df.mean(axis = 1)\n",
    "normalized_spatial_df = spatial_df.copy()\n",
    "normalized_spatial_df = normalized_spatial_df.sub(series_means, axis = 0)\n",
    "series_sd = normalized_spatial_df.std(axis = 1)\n",
    "normalized_spatial_df = normalized_spatial_df.div(series_sd, axis = 0)\n",
    "year_list = normalized_spatial_df.columns\n",
    "\n",
    "pd.pivot_table( normalized_spatial_df.reset_index(), columns = 'GeoName').plot()"
   ]
  },
  {
   "cell_type": "markdown",
   "metadata": {},
   "source": [
    "## Choices for weight matrix here: VAR based weights (correlations),  geography, and uniform"
   ]
  },
  {
   "cell_type": "code",
   "execution_count": 15,
   "metadata": {},
   "outputs": [
    {
     "name": "stderr",
     "output_type": "stream",
     "text": [
      "C:\\Users\\michelj8\\Anaconda3\\lib\\site-packages\\statsmodels\\tsa\\base\\tsa_model.py:213: ValueWarning: An unsupported index was provided and will be ignored when e.g. forecasting.\n",
      "  warnings.warn('An unsupported index was provided and will be'\n"
     ]
    }
   ],
   "source": [
    "# #Matrix coming from a VAR specification\n",
    "# #VAR analysis on the normalized dataset\n",
    "norm_means = delta_region_data.mean(axis =0)\n",
    "norm_delta_region = delta_region_data.sub(norm_means, axis =1)\n",
    "\n",
    "norm_sd = norm_delta_region.std(axis =0)\n",
    "norm_delta_region = norm_delta_region.div(norm_sd, axis =1)\n",
    "\n",
    "model = VAR(delta_region_data).fit()\n",
    "# model = VAR(norm_delta_region).fit()\n",
    "\n",
    "var_matrix = model.params\n",
    "mod_region_names = ['L1.'+x for x in region_names]\n",
    "var_matrix = var_matrix.loc[mod_region_names][region_names].values\n",
    "\n",
    "def max_zero(x):\n",
    "    return max(x,0.0)\n",
    "\n",
    "var_weight_matrix = np.vectorize(max_zero)(var_matrix) \n",
    "for ind in range(0,len(var_weight_matrix)):\n",
    "    var_weight_matrix[ind,ind] =0\n",
    "    \n",
    "var_weight_matrix = pd.DataFrame(var_weight_matrix)\n",
    "var_weight_matrix\n",
    "var_weight_matrix = var_weight_matrix.div( var_weight_matrix.sum(axis = 1), axis = 0)\n",
    "var_weight_matrix = var_weight_matrix.fillna(0)\n",
    "var_weight_matrix = var_weight_matrix.values"
   ]
  },
  {
   "cell_type": "code",
   "execution_count": 16,
   "metadata": {},
   "outputs": [],
   "source": [
    "# # #Weight matrix based on adjacent neighbors\n",
    "# map_weight_matrix = np.zeros([8,8])\n",
    "\n",
    "# map_weight_matrix[0,1] = 1.0\n",
    "# map_weight_matrix[1,[0,2,4]] = 1.0/3.0\n",
    "# map_weight_matrix[2,[1,3,4]] = 1.0/3.0\n",
    "# map_weight_matrix[3,[2,4,5,6]] = 1.0/4.0\n",
    "# map_weight_matrix[4,[1,2,3,5]] = 1.0/4.0\n",
    "# map_weight_matrix[5,[3,4,6,7]] = 1.0/4.0\n",
    "# map_weight_matrix[6,[3,5,7]] = 1.0/3.0\n",
    "# map_weight_matrix[7,[5,6]] = 1.0/2.0"
   ]
  },
  {
   "cell_type": "code",
   "execution_count": 20,
   "metadata": {},
   "outputs": [],
   "source": [
    "unif_weight_matrix = np.ones([len(dynamic_spatial_data), len(dynamic_spatial_data)])\n",
    "unif_weight_matrix = unif_weight_matrix/len(dynamic_spatial_data)\n",
    "\n",
    "for ind in range(0,len(unif_weight_matrix)):\n",
    "    unif_weight_matrix[ind,ind] =0"
   ]
  },
  {
   "cell_type": "markdown",
   "metadata": {},
   "source": [
    "# Define the forecasting functions here"
   ]
  },
  {
   "cell_type": "code",
   "execution_count": 21,
   "metadata": {},
   "outputs": [],
   "source": [
    "def forecast_k_ahead(theta, k, spatial_df, w_matrix):\n",
    "    no_series = len(spatial_df)\n",
    "    \n",
    "    #In this section we normalize the data to be forecasted, giving it mean 0 and s.d. 1\n",
    "    series_means = spatial_df.mean(axis = 1)\n",
    "    normalized_spatial_df = spatial_df.copy()\n",
    "    normalized_spatial_df = normalized_spatial_df.sub(series_means, axis = 0)\n",
    "    series_sd = normalized_spatial_df.std(axis = 1)\n",
    "    normalized_spatial_df = normalized_spatial_df.div(series_sd, axis = 0)\n",
    "    \n",
    "#     alpha = np.array(theta[0:8]).reshape([8,1])\n",
    "    rho = theta[0]\n",
    "    phi = theta[1]\n",
    "    lam = theta[2]\n",
    "    \n",
    "    id_matrix = diag_to_matrix(no_series*[1])\n",
    "    aux_matrix = rho* id_matrix + phi * w_matrix\n",
    "    s_matrix = id_matrix - lam*w_matrix\n",
    "    \n",
    "    s_inv_matrix = np.linalg.inv(s_matrix)\n",
    "    m_theta_matrix = np.dot(s_inv_matrix, aux_matrix)\n",
    "    \n",
    "    forecast_array = normalized_spatial_df.copy()\n",
    "    for k_ahead in range(0,k):\n",
    "#         forecast_array = np.dot(s_inv_matrix,alpha) + np.dot(m_theta_matrix, forecast_array)\n",
    "        forecast_array = np.dot(m_theta_matrix, forecast_array)\n",
    "\n",
    "    forecast_df = pd.DataFrame(forecast_array)\n",
    "    forecast_df['region'] = region_names\n",
    "    forecast_df = forecast_df.set_index('region')\n",
    "    forecast_df = forecast_df.mul(series_sd, axis =0).add(series_means, axis =0 )\n",
    "    forecast_df.columns = spatial_df.columns + k\n",
    "    \n",
    "    return forecast_df"
   ]
  },
  {
   "cell_type": "code",
   "execution_count": 22,
   "metadata": {},
   "outputs": [],
   "source": [
    "def forecast_errors_k_ahead(theta,k, spatial_df, w_matrix):\n",
    "    forecast_df = forecast_k_ahead(theta,k,spatial_df,w_matrix)\n",
    "    \n",
    "    data_years = list(spatial_df.columns)\n",
    "    forecast_years = list(forecast_df.columns)\n",
    "    overlap_years = [x for x in data_years if x in forecast_years]\n",
    "    \n",
    "    errors = forecast_df[overlap_years]-spatial_df[overlap_years]\n",
    "    return errors"
   ]
  },
  {
   "cell_type": "code",
   "execution_count": 23,
   "metadata": {},
   "outputs": [],
   "source": [
    "def sse_k_ahead(theta,k,spatial_df, w_matrix):\n",
    "    error_df = forecast_errors_k_ahead(theta,k,spatial_df,w_matrix)\n",
    "    return np.square(error_df).sum().sum()"
   ]
  },
  {
   "cell_type": "code",
   "execution_count": 26,
   "metadata": {},
   "outputs": [
    {
     "name": "stdout",
     "output_type": "stream",
     "text": [
      "(0.5444444444444445, 0.0, 0.38888888888888884)\n",
      "7.973478542326932\n",
      "17.933539849458043\n"
     ]
    }
   ],
   "source": [
    "import itertools\n",
    "first_year = 1\n",
    "last_year_out = 20\n",
    "k = 1\n",
    "weight_matrix = unif_weight_matrix\n",
    "\n",
    "def data_sse_k_ahead(theta,k,min_year, max_year,w_matrix):\n",
    "    return sse_k_ahead(theta,k,dynamic_spatial_data[range(min_year,max_year)], w_matrix)\n",
    "\n",
    "min_theta = [0,0,0]\n",
    "min_errors = data_sse_k_ahead(min_theta,k,first_year, last_year_out, weight_matrix)\n",
    "\n",
    "rho_grid = np.linspace(0,.7,10)\n",
    "phi_grid = np.linspace(0,.5,10)\n",
    "lam_grid = np.linspace(0,.5,10)\n",
    "\n",
    "for theta in itertools.product(rho_grid, phi_grid, lam_grid):\n",
    "    errors = data_sse_k_ahead(theta,k,first_year, last_year_out, weight_matrix)\n",
    "    if errors < min_errors:\n",
    "        min_theta = theta\n",
    "        min_errors = errors\n",
    "        \n",
    "print(min_theta)\n",
    "print( sse_k_ahead(min_theta,1,dynamic_spatial_data,weight_matrix ) )\n",
    "print( sse_k_ahead([0,0,0],1,dynamic_spatial_data,weight_matrix ) )"
   ]
  },
  {
   "cell_type": "code",
   "execution_count": 28,
   "metadata": {},
   "outputs": [
    {
     "name": "stdout",
     "output_type": "stream",
     "text": [
      "11.383553608323686\n"
     ]
    }
   ],
   "source": [
    "from statsmodels.tsa.arima_model import ARMA\n",
    "\n",
    "ar_df = pd.DataFrame(columns = ['alpha','rho'])\n",
    "sse = 0\n",
    "\n",
    "for region in region_names:\n",
    "    region_series = dynamic_spatial_data.loc[region].values\n",
    "    model = ARMA(region_series, (1,0)).fit()\n",
    "    ar_df.loc[region] = model.params\n",
    "    sse = sse + np.square(region_series - model.predict()).sum()\n",
    "    \n",
    "print(sse)"
   ]
  },
  {
   "cell_type": "code",
   "execution_count": 29,
   "metadata": {},
   "outputs": [
    {
     "data": {
      "text/html": [
       "<div>\n",
       "<style scoped>\n",
       "    .dataframe tbody tr th:only-of-type {\n",
       "        vertical-align: middle;\n",
       "    }\n",
       "\n",
       "    .dataframe tbody tr th {\n",
       "        vertical-align: top;\n",
       "    }\n",
       "\n",
       "    .dataframe thead th {\n",
       "        text-align: right;\n",
       "    }\n",
       "</style>\n",
       "<table border=\"1\" class=\"dataframe\">\n",
       "  <thead>\n",
       "    <tr style=\"text-align: right;\">\n",
       "      <th></th>\n",
       "      <th>alpha</th>\n",
       "      <th>rho</th>\n",
       "    </tr>\n",
       "  </thead>\n",
       "  <tbody>\n",
       "    <tr>\n",
       "      <th>A</th>\n",
       "      <td>1.485991</td>\n",
       "      <td>0.745577</td>\n",
       "    </tr>\n",
       "    <tr>\n",
       "      <th>B</th>\n",
       "      <td>1.365970</td>\n",
       "      <td>0.790076</td>\n",
       "    </tr>\n",
       "    <tr>\n",
       "      <th>C</th>\n",
       "      <td>1.226858</td>\n",
       "      <td>0.794977</td>\n",
       "    </tr>\n",
       "    <tr>\n",
       "      <th>D</th>\n",
       "      <td>1.602845</td>\n",
       "      <td>0.601590</td>\n",
       "    </tr>\n",
       "    <tr>\n",
       "      <th>E</th>\n",
       "      <td>1.529116</td>\n",
       "      <td>0.878227</td>\n",
       "    </tr>\n",
       "  </tbody>\n",
       "</table>\n",
       "</div>"
      ],
      "text/plain": [
       "      alpha       rho\n",
       "A  1.485991  0.745577\n",
       "B  1.365970  0.790076\n",
       "C  1.226858  0.794977\n",
       "D  1.602845  0.601590\n",
       "E  1.529116  0.878227"
      ]
     },
     "execution_count": 29,
     "metadata": {},
     "output_type": "execute_result"
    }
   ],
   "source": [
    "ar_df"
   ]
  },
  {
   "cell_type": "code",
   "execution_count": 30,
   "metadata": {},
   "outputs": [
    {
     "name": "stderr",
     "output_type": "stream",
     "text": [
      "C:\\Users\\michelj8\\Anaconda3\\lib\\site-packages\\statsmodels\\tsa\\base\\tsa_model.py:213: ValueWarning: An unsupported index was provided and will be ignored when e.g. forecasting.\n",
      "  warnings.warn('An unsupported index was provided and will be'\n"
     ]
    },
    {
     "data": {
      "text/html": [
       "<div>\n",
       "<style scoped>\n",
       "    .dataframe tbody tr th:only-of-type {\n",
       "        vertical-align: middle;\n",
       "    }\n",
       "\n",
       "    .dataframe tbody tr th {\n",
       "        vertical-align: top;\n",
       "    }\n",
       "\n",
       "    .dataframe thead th {\n",
       "        text-align: right;\n",
       "    }\n",
       "</style>\n",
       "<table border=\"1\" class=\"dataframe\">\n",
       "  <thead>\n",
       "    <tr style=\"text-align: right;\">\n",
       "      <th></th>\n",
       "      <th>A</th>\n",
       "      <th>B</th>\n",
       "      <th>C</th>\n",
       "      <th>D</th>\n",
       "      <th>E</th>\n",
       "    </tr>\n",
       "  </thead>\n",
       "  <tbody>\n",
       "    <tr>\n",
       "      <th>const</th>\n",
       "      <td>0.0</td>\n",
       "      <td>0.0</td>\n",
       "      <td>0.0</td>\n",
       "      <td>0.0</td>\n",
       "      <td>0.0</td>\n",
       "    </tr>\n",
       "    <tr>\n",
       "      <th>L1.A</th>\n",
       "      <td>0.0</td>\n",
       "      <td>0.0</td>\n",
       "      <td>0.0</td>\n",
       "      <td>0.0</td>\n",
       "      <td>0.0</td>\n",
       "    </tr>\n",
       "    <tr>\n",
       "      <th>L1.B</th>\n",
       "      <td>0.0</td>\n",
       "      <td>0.0</td>\n",
       "      <td>0.0</td>\n",
       "      <td>0.0</td>\n",
       "      <td>0.0</td>\n",
       "    </tr>\n",
       "    <tr>\n",
       "      <th>L1.C</th>\n",
       "      <td>0.0</td>\n",
       "      <td>0.0</td>\n",
       "      <td>0.0</td>\n",
       "      <td>0.0</td>\n",
       "      <td>0.0</td>\n",
       "    </tr>\n",
       "    <tr>\n",
       "      <th>L1.D</th>\n",
       "      <td>0.0</td>\n",
       "      <td>0.0</td>\n",
       "      <td>0.0</td>\n",
       "      <td>0.0</td>\n",
       "      <td>0.0</td>\n",
       "    </tr>\n",
       "    <tr>\n",
       "      <th>L1.E</th>\n",
       "      <td>0.0</td>\n",
       "      <td>0.0</td>\n",
       "      <td>0.0</td>\n",
       "      <td>0.0</td>\n",
       "      <td>0.0</td>\n",
       "    </tr>\n",
       "  </tbody>\n",
       "</table>\n",
       "</div>"
      ],
      "text/plain": [
       "         A    B    C    D    E\n",
       "const  0.0  0.0  0.0  0.0  0.0\n",
       "L1.A   0.0  0.0  0.0  0.0  0.0\n",
       "L1.B   0.0  0.0  0.0  0.0  0.0\n",
       "L1.C   0.0  0.0  0.0  0.0  0.0\n",
       "L1.D   0.0  0.0  0.0  0.0  0.0\n",
       "L1.E   0.0  0.0  0.0  0.0  0.0"
      ]
     },
     "execution_count": 30,
     "metadata": {},
     "output_type": "execute_result"
    }
   ],
   "source": [
    "model = VAR(delta_region_data).fit()\n",
    "model.params"
   ]
  },
  {
   "cell_type": "code",
   "execution_count": 31,
   "metadata": {},
   "outputs": [
    {
     "data": {
      "text/plain": [
       "0.0"
      ]
     },
     "execution_count": 31,
     "metadata": {},
     "output_type": "execute_result"
    }
   ],
   "source": [
    "np.square(model.resid).sum().sum()"
   ]
  },
  {
   "cell_type": "code",
   "execution_count": null,
   "metadata": {},
   "outputs": [],
   "source": []
  }
 ],
 "metadata": {
  "kernelspec": {
   "display_name": "Python 3",
   "language": "python",
   "name": "python3"
  },
  "language_info": {
   "codemirror_mode": {
    "name": "ipython",
    "version": 3
   },
   "file_extension": ".py",
   "mimetype": "text/x-python",
   "name": "python",
   "nbconvert_exporter": "python",
   "pygments_lexer": "ipython3",
   "version": "3.8.3"
  }
 },
 "nbformat": 4,
 "nbformat_minor": 4
}
